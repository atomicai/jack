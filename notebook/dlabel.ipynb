{
 "cells": [
  {
   "cell_type": "code",
   "execution_count": 1,
   "metadata": {},
   "outputs": [],
   "source": [
    "import pandas as pd\n",
    "import logging\n",
    "import io\n",
    "from itertools import tee\n",
    "from collections.abc import Iterator"
   ]
  },
  {
   "cell_type": "markdown",
   "metadata": {},
   "source": [
    "https://radimrehurek.com/gensim/models/poincare.html"
   ]
  },
  {
   "cell_type": "code",
   "execution_count": 2,
   "metadata": {},
   "outputs": [],
   "source": [
    "pd.set_option(\"plotting.backend\", \"plotly\")"
   ]
  },
  {
   "cell_type": "code",
   "execution_count": 3,
   "metadata": {},
   "outputs": [],
   "source": [
    "import docx2txt"
   ]
  },
  {
   "cell_type": "code",
   "execution_count": 4,
   "metadata": {},
   "outputs": [],
   "source": [
    "text = docx2txt.process(\"Rus_Passages_Fixed_01.08.docx\")"
   ]
  },
  {
   "cell_type": "code",
   "execution_count": 10,
   "metadata": {},
   "outputs": [],
   "source": [
    "prefix = [\n",
    "    \"format\",\n",
    "    \"query:\",\n",
    "    \"context:\",\n",
    "    \"answer:\",\n",
    "]"
   ]
  },
  {
   "cell_type": "code",
   "execution_count": 17,
   "metadata": {},
   "outputs": [],
   "source": [
    "def chunkify(f, chunksize=10_000_000, sep=\"\\n\"):\n",
    "    \"\"\"\n",
    "    Read a file separating its content lazily.\n",
    "\n",
    "    Usage:\n",
    "\n",
    "    >>> with open('INPUT.TXT') as f:\n",
    "    >>>     for item in chunkify(f):\n",
    "    >>>         process(item)\n",
    "    \"\"\"\n",
    "    chunk = None\n",
    "    remainder = None  # data from the previous chunk.\n",
    "    while chunk != \"\":\n",
    "        chunk = f.read(chunksize)\n",
    "        if remainder:\n",
    "            piece = remainder + chunk\n",
    "        else:\n",
    "            piece = chunk\n",
    "        pos = None\n",
    "        while pos is None or pos >= 0:\n",
    "            pos = piece.find(sep)\n",
    "            if pos >= 0:\n",
    "                if pos > 0:\n",
    "                    yield piece[:pos]\n",
    "                piece = piece[pos + 1 :]\n",
    "                remainder = None\n",
    "            else:\n",
    "                remainder = piece\n",
    "    if remainder:  # This statement will be executed iff @remainder != ''\n",
    "        yield remainder"
   ]
  },
  {
   "cell_type": "code",
   "execution_count": 40,
   "metadata": {},
   "outputs": [],
   "source": [
    "class NIterator(Iterator):\n",
    "\n",
    "    def __init__(self, it):\n",
    "        self.it = iter(it)\n",
    "        self._is_next = None\n",
    "        self._next = None\n",
    "    \n",
    "    def has_next(self) -> bool:\n",
    "        if self._is_next is None:\n",
    "            try:\n",
    "                self._next = next(self.it)\n",
    "            except:\n",
    "                self._is_next = False\n",
    "            else:\n",
    "                self._is_next = True\n",
    "        return self._is_next\n",
    "    \n",
    "    def __iter__(self):\n",
    "        return self\n",
    "    \n",
    "    def __next__(self):\n",
    "        return self.next()\n",
    "    \n",
    "    def next(self):\n",
    "        if self._is_next :\n",
    "            response = self._next\n",
    "        else:\n",
    "            response = next(self.it)\n",
    "        self._is_next = None\n",
    "        return response"
   ]
  },
  {
   "cell_type": "code",
   "execution_count": 57,
   "metadata": {},
   "outputs": [
    {
     "data": {
      "text/plain": [
       "'a'"
      ]
     },
     "execution_count": 57,
     "metadata": {},
     "output_type": "execute_result"
    }
   ],
   "source": [
    "next(iter({\"a\": 1, \"b\":2, \"c\": 3}))"
   ]
  },
  {
   "cell_type": "code",
   "execution_count": null,
   "metadata": {},
   "outputs": [],
   "source": []
  },
  {
   "cell_type": "code",
   "execution_count": null,
   "metadata": {},
   "outputs": [],
   "source": [
    "[\n",
    "    (\"title:\", \"title:\")\n",
    "    (\"format:\", \"format:\"),\n",
    "    (\"query:\", \"query:\"),\n",
    "    (\"\")\n",
    "]"
   ]
  },
  {
   "cell_type": "code",
   "execution_count": 108,
   "metadata": {},
   "outputs": [],
   "source": [
    "import abc\n",
    "from typing import List\n",
    "import collections\n",
    "\n",
    "class Runnable(abc.ABC):\n",
    "\n",
    "    @abc.abstractmethod\n",
    "    def run(self, x, **kwargs):\n",
    "        pass\n",
    "\n",
    "    @abc.abstractmethod\n",
    "    def next(self, x):\n",
    "        pass\n",
    "\n",
    "class Action:\n",
    "    def __init__(self, action=None):\n",
    "        self.action = action\n",
    "    def __str__(self): return self.action\n",
    "    def __repr__(self): return self.action\n",
    "    def __cmp__(self, other):\n",
    "        return cmp(self.action, other.action)\n",
    "    # Necessary when __cmp__ or __eq__ is defined\n",
    "    # in order to make this class usable as a\n",
    "    # dictionary key:\n",
    "    def __hash__(self):\n",
    "        return hash(self.action)\n",
    "    \n",
    "    def __eq__(self, other):\n",
    "        \"\"\"Overrides the default implementation\"\"\"\n",
    "        if isinstance(other, Action):\n",
    "            return self.action == other.action\n",
    "        return NotImplemented\n",
    "\n",
    "Action.title = Action(\"title:\") # title -> format\n",
    "Action.format = Action(\"format:\") # format -> query\n",
    "Action.query = Action(\"query:\") # query -> query | query -> context\n",
    "Action.context = Action(\"context:\") # context -> context | context -> answer\n",
    "Action.answer = Action(\"answer:\") # answer -> answer | answer -> title | answer -> format\n",
    "Action.fill = Action(\"fill:\") #\n",
    "\n",
    "\n",
    "class IState(Runnable):\n",
    "\n",
    "    def __init__(self, name: str, transitions = None, data=None):\n",
    "        super(IState, self).__init__()\n",
    "        self.name = name\n",
    "        self.g = collections.defaultdict(set) # Action (aka Input) -> new IState\n",
    "        # transitions is a list of pairs (input, next->state)\n",
    "        # Every possible state from current\n",
    "        # Note, that there can be 1...i  input(s) acceptable\n",
    "        # Transition can also happen to 1..j new_state(s) \n",
    "        if isinstance(transitions, collections.Iterable):\n",
    "            for observe in transitions:\n",
    "                for next_state in transitions[source]:\n",
    "                    self.g[observe].add(next_state)\n",
    "    \n",
    "    def next(self, obs, data=None):\n",
    "        # Can we yield each state here sequentially?\n",
    "        # TODO:\n",
    "        # How to props the prev data sequentially?\n",
    "        if self.g.has_key(obs):\n",
    "            return self.g[obs]\n",
    "        raise ValueError(f\"Got unexpected {str(obs)} action being in {self.name} state\")\n",
    "\n",
    "    def process(self, x, **kwargs):\n",
    "        print(f\"processing (aka running) {self.name}\")\n",
    "\n",
    "class DState(IState):\n",
    "\n",
    "    def __init__(self, name: str, transitions= None, fn=None, fn_check=None):\n",
    "        super(DState, self).__init__(name, transitions)\n",
    "        self.store = collections.deque()\n",
    "    \n",
    "    # How to add check and report on done\n",
    "    \n",
    "    def run(self, x, **kwargs):\n",
    "        self.store\n",
    "\n",
    "class TitleState(IState):\n",
    "    pass\n",
    "\n",
    "class FormatState(IState):\n",
    "    pass\n",
    "\n",
    "class QueryState(StoringState):\n",
    "    pass\n",
    "\n",
    "class ContextState(StoringState):\n",
    "    pass\n",
    "\n",
    "class AnswerState(StoringState):\n",
    "    pass\n",
    "\n",
    "class StateMachine:\n",
    "\n",
    "    def __init__(self, states, start_state: str, it):\n",
    "        self.states = states\n",
    "        self.state = start_state\n",
    "        self.it = it\n",
    "\n",
    "    def move(self, action: str, data=None):\n",
    "        return self.state.next(Action(action))\n",
    "\n",
    "    # Template method:\n",
    "    def start(self):\n",
    "        #\n",
    "        while self.it.has_next():\n",
    "            item = self.it.next().strip()\n",
    "            # <TODO:>\n",
    "            # fastnumbers try to convert and if it is simply a number => continue\n",
    "            if item.lower() in (\"extractive\", \"abstractive\"):\n",
    "                item = \"format:\" + item\n",
    "            # splitting\n",
    "            # TODO: join with the action object here\n",
    "            try:\n",
    "                action, ctx = item.split(\":\", maxsplit=1)\n",
    "                action = action.strip().lower()\n",
    "            except:\n",
    "                # ...\n",
    "                action = \"fill:\"\n",
    "                self.buffer.append(item)\n",
    "            else:\n",
    "                self.state = self.move(action, data=ctx)\n",
    "            \n",
    "            \n",
    "        # for i in inputs:\n",
    "        #     self.currentState = self.currentState.next(i)\n",
    "        #     self.currentState.run()"
   ]
  },
  {
   "cell_type": "code",
   "execution_count": 114,
   "metadata": {},
   "outputs": [
    {
     "data": {
      "text/plain": [
       "['query', ' какие правила голодных игр: freear?']"
      ]
     },
     "execution_count": 114,
     "metadata": {},
     "output_type": "execute_result"
    }
   ],
   "source": [
    "\"query: какие правила голодных игр\".split(\":\", maxsplit=1)"
   ]
  },
  {
   "cell_type": "code",
   "execution_count": 109,
   "metadata": {},
   "outputs": [],
   "source": [
    "del d\n",
    "d = collections.defaultdict(set)"
   ]
  },
  {
   "cell_type": "code",
   "execution_count": 110,
   "metadata": {},
   "outputs": [],
   "source": [
    "d[Action(\"title:\")].add(StoringState(\"format:\"))\n",
    "d[Action(\"format:\")].add(StoringState(\"query:\"))"
   ]
  },
  {
   "cell_type": "code",
   "execution_count": 112,
   "metadata": {},
   "outputs": [
    {
     "data": {
      "text/plain": [
       "{<__main__.StoringState at 0x7f81c9049450>}"
      ]
     },
     "execution_count": 112,
     "metadata": {},
     "output_type": "execute_result"
    }
   ],
   "source": [
    "d.get(Action(\"title:\"))"
   ]
  },
  {
   "cell_type": "code",
   "execution_count": 111,
   "metadata": {},
   "outputs": [
    {
     "data": {
      "text/plain": [
       "title:"
      ]
     },
     "execution_count": 111,
     "metadata": {},
     "output_type": "execute_result"
    }
   ],
   "source": [
    "list(d.keys())[0]"
   ]
  },
  {
   "cell_type": "code",
   "execution_count": 101,
   "metadata": {},
   "outputs": [],
   "source": [
    "d.get(Action(\"title:\"))"
   ]
  },
  {
   "cell_type": "code",
   "execution_count": 61,
   "metadata": {},
   "outputs": [],
   "source": [
    "mapped = map(\n",
    "    Action,\n",
    "    [\n",
    "        \"title: \",\n",
    "        \"format: \",\n",
    "        \"query: \"\n",
    "    ]\n",
    ")"
   ]
  },
  {
   "cell_type": "code",
   "execution_count": 71,
   "metadata": {},
   "outputs": [],
   "source": [
    "test = {\n",
    "    \"query:\": \"action on query\"\n",
    "}"
   ]
  },
  {
   "cell_type": "code",
   "execution_count": null,
   "metadata": {},
   "outputs": [],
   "source": [
    "test.has_key()"
   ]
  },
  {
   "cell_type": "code",
   "execution_count": 70,
   "metadata": {},
   "outputs": [
    {
     "data": {
      "text/plain": [
       "<__main__.Action at 0x7f81c94b3510>"
      ]
     },
     "execution_count": 70,
     "metadata": {},
     "output_type": "execute_result"
    }
   ],
   "source": [
    "Action.query"
   ]
  },
  {
   "cell_type": "code",
   "execution_count": null,
   "metadata": {},
   "outputs": [],
   "source": [
    "IState(\"title\", transitions={\n",
    "    \"\", IState()\n",
    "})"
   ]
  },
  {
   "cell_type": "code",
   "execution_count": 35,
   "metadata": {},
   "outputs": [
    {
     "ename": "SyntaxError",
     "evalue": "invalid syntax (42994340.py, line 15)",
     "output_type": "error",
     "traceback": [
      "\u001b[0;36m  File \u001b[0;32m\"/var/folders/nh/f9dncfjd54q3h62g2x0w8_xmp1s5pn/T/ipykernel_39116/42994340.py\"\u001b[0;36m, line \u001b[0;32m15\u001b[0m\n\u001b[0;31m    self._store =\u001b[0m\n\u001b[0m                  ^\u001b[0m\n\u001b[0;31mSyntaxError\u001b[0m\u001b[0;31m:\u001b[0m invalid syntax\n"
     ]
    }
   ],
   "source": [
    "import collections\n",
    "\n",
    "class AIProcessor:\n",
    "\n",
    "    prefix = [\n",
    "        \"title:\",\n",
    "        \"format:\",\n",
    "        \"query:\",\n",
    "        \"context:\",\n",
    "        \"answer:\",\n",
    "    ]\n",
    "\n",
    "    book_prefix = \"title:\"\n",
    "\n",
    "    def __init__(self):\n",
    "        self._command = None\n",
    "        self._store = None\n",
    "\n",
    "    def _on_prefix(self, s: str):\n",
    "        return any([chunk.lower().startswith(_) for _ in self.prefix])\n",
    "\n",
    "    def process(self, chunk, p=None):\n",
    "        chunk = chunk.strip()\n",
    "\n",
    "        if any([chunk.lower().startswith(_) for _ in self.prefix]):\n",
    "            self._command = chunk.split(\":\", maxsplit=1)[0]\n",
    "        if self._command:\n",
    "            _next, done = None, False\n",
    "            _current = tee(p)\n",
    "            while current.has_next() and not done:\n",
    "                _next = p.next().strip()\n",
    "                if self._on_prefix(_next):\n",
    "                    done = True\n",
    "                \n",
    "\n",
    "        "
   ]
  },
  {
   "cell_type": "code",
   "execution_count": null,
   "metadata": {},
   "outputs": [],
   "source": []
  },
  {
   "cell_type": "code",
   "execution_count": null,
   "metadata": {},
   "outputs": [],
   "source": [
    "processor = AIProcessor()"
   ]
  },
  {
   "cell_type": "code",
   "execution_count": 41,
   "metadata": {},
   "outputs": [],
   "source": [
    "ptr = NIterator(chunkify(io.StringIO(text)))"
   ]
  },
  {
   "cell_type": "code",
   "execution_count": 42,
   "metadata": {},
   "outputs": [
    {
     "data": {
      "text/plain": [
       "'Title: Голодные игры - Сьюзен Коллинз'"
      ]
     },
     "execution_count": 42,
     "metadata": {},
     "output_type": "execute_result"
    }
   ],
   "source": [
    "ptr.next()"
   ]
  },
  {
   "cell_type": "code",
   "execution_count": 48,
   "metadata": {},
   "outputs": [],
   "source": [
    "ptr, current = tee(ptr)"
   ]
  },
  {
   "cell_type": "code",
   "execution_count": 54,
   "metadata": {},
   "outputs": [
    {
     "data": {
      "text/plain": [
       "'abstractive'"
      ]
     },
     "execution_count": 54,
     "metadata": {},
     "output_type": "execute_result"
    }
   ],
   "source": [
    "next(ptr)"
   ]
  },
  {
   "cell_type": "code",
   "execution_count": 55,
   "metadata": {},
   "outputs": [
    {
     "data": {
      "text/plain": [
       "'query: Как выглядел кот Лютик?'"
      ]
     },
     "execution_count": 55,
     "metadata": {},
     "output_type": "execute_result"
    }
   ],
   "source": [
    "next(current)"
   ]
  },
  {
   "cell_type": "code",
   "execution_count": 30,
   "metadata": {},
   "outputs": [],
   "source": [
    "# with io.StringIO(text) as p:\n",
    "#     for chunk in chunkify(p):\n",
    "#         chunk = chunk.strip()"
   ]
  },
  {
   "cell_type": "code",
   "execution_count": 56,
   "metadata": {},
   "outputs": [
    {
     "ename": "AttributeError",
     "evalue": "'itertools._tee' object has no attribute 'next'",
     "output_type": "error",
     "traceback": [
      "\u001b[0;31m---------------------------------------------------------------------------\u001b[0m",
      "\u001b[0;31mAttributeError\u001b[0m                            Traceback (most recent call last)",
      "\u001b[0;32m/var/folders/nh/f9dncfjd54q3h62g2x0w8_xmp1s5pn/T/ipykernel_39116/3119980417.py\u001b[0m in \u001b[0;36m<module>\u001b[0;34m\u001b[0m\n\u001b[0;32m----> 1\u001b[0;31m \u001b[0mptr\u001b[0m\u001b[0;34m.\u001b[0m\u001b[0mnext\u001b[0m\u001b[0;34m(\u001b[0m\u001b[0;34m)\u001b[0m\u001b[0;34m\u001b[0m\u001b[0;34m\u001b[0m\u001b[0m\n\u001b[0m",
      "\u001b[0;31mAttributeError\u001b[0m: 'itertools._tee' object has no attribute 'next'"
     ]
    }
   ],
   "source": [
    "ptr.next()"
   ]
  },
  {
   "cell_type": "code",
   "execution_count": null,
   "metadata": {},
   "outputs": [],
   "source": []
  }
 ],
 "metadata": {
  "kernelspec": {
   "display_name": "Python 3.9.13 64-bit",
   "language": "python",
   "name": "python3"
  },
  "language_info": {
   "codemirror_mode": {
    "name": "ipython",
    "version": 3
   },
   "file_extension": ".py",
   "mimetype": "text/x-python",
   "name": "python",
   "nbconvert_exporter": "python",
   "pygments_lexer": "ipython3",
   "version": "3.9.13"
  },
  "orig_nbformat": 4,
  "vscode": {
   "interpreter": {
    "hash": "65185d064a1c8bbb51830523107cc6bf50e52ff4f53a2087cceea2e34fb5999d"
   }
  }
 },
 "nbformat": 4,
 "nbformat_minor": 2
}
