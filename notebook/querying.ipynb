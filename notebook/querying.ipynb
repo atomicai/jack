{
 "cells": [
  {
   "cell_type": "code",
   "execution_count": 7,
   "metadata": {},
   "outputs": [],
   "source": [
    "from jack.storing import elastic\n",
    "import warnings\n",
    "from jack.engine import bm25\n",
    "import pathlib, os\n",
    "from jack.tooling import io as io_tool\n",
    "warnings.filterwarnings('ignore')"
   ]
  },
  {
   "cell_type": "markdown",
   "metadata": {},
   "source": [
    "> Let's now perform actual `bm25 quering` once we have all the documents put in container"
   ]
  },
  {
   "cell_type": "code",
   "execution_count": 4,
   "metadata": {},
   "outputs": [],
   "source": [
    "store = elastic.ElasticDocStore()"
   ]
  },
  {
   "cell_type": "code",
   "execution_count": 6,
   "metadata": {},
   "outputs": [],
   "source": [
    "ir = bm25.BM25Retriever(store)"
   ]
  },
  {
   "cell_type": "code",
   "execution_count": 8,
   "metadata": {},
   "outputs": [],
   "source": [
    "examples = [\n",
    "    {\n",
    "        \"text\": \"Senior Data Scientist\"\n",
    "    },\n",
    "    {\n",
    "        \"text\": \"Actor\"\n",
    "    },\n",
    "    {\n",
    "        \"text\": \"Musician\"\n",
    "    }\n",
    "]"
   ]
  },
  {
   "cell_type": "code",
   "execution_count": 12,
   "metadata": {},
   "outputs": [],
   "source": [
    "response = []"
   ]
  },
  {
   "cell_type": "code",
   "execution_count": 16,
   "metadata": {},
   "outputs": [],
   "source": [
    "for ex in examples:\n",
    "    query = ex[\"text\"]\n",
    "    res = list(ir.retrieve_top_k(query, top_k=5))[0][0]\n",
    "    res = [(query, r.meta[\"label\"], r.score) for r in res]\n",
    "    response.append(res)"
   ]
  },
  {
   "cell_type": "code",
   "execution_count": 17,
   "metadata": {},
   "outputs": [
    {
     "data": {
      "text/plain": [
       "[[('Senior Data Scientist', 'Software Developers, Applications', 12.221315),\n",
       "  ('Senior Data Scientist', 'Intelligence Analysts', 11.154627),\n",
       "  ('Senior Data Scientist',\n",
       "   'Software Developers, Systems Software',\n",
       "   10.994478),\n",
       "  ('Senior Data Scientist', 'Management Analysts', 10.994478),\n",
       "  ('Senior Data Scientist', 'Marketing Managers', 9.943106)],\n",
       " [],\n",
       " []]"
      ]
     },
     "execution_count": 17,
     "metadata": {},
     "output_type": "execute_result"
    }
   ],
   "source": [
    "response"
   ]
  },
  {
   "cell_type": "markdown",
   "metadata": {},
   "source": [
    "> As we can see the `Senior Data Scientist` got similar matches while `Actor` and `Musician` got None highligting that these queries probably belong to some new group :-)"
   ]
  },
  {
   "cell_type": "markdown",
   "metadata": {},
   "source": [
    "> To perform the actual decision it is, therefore, necessary to implement ranking on the returned result(s)."
   ]
  }
 ],
 "metadata": {
  "kernelspec": {
   "display_name": "Python 3.9.12 ('base')",
   "language": "python",
   "name": "python3"
  },
  "language_info": {
   "codemirror_mode": {
    "name": "ipython",
    "version": 3
   },
   "file_extension": ".py",
   "mimetype": "text/x-python",
   "name": "python",
   "nbconvert_exporter": "python",
   "pygments_lexer": "ipython3",
   "version": "3.9.12"
  },
  "orig_nbformat": 4,
  "vscode": {
   "interpreter": {
    "hash": "01e6cdf08b36622ed3d893f88172b1a642d006eb8044929217be266c2785dd5a"
   }
  }
 },
 "nbformat": 4,
 "nbformat_minor": 2
}
