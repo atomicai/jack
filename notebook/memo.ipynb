{
 "cells": [
  {
   "cell_type": "code",
   "execution_count": 1,
   "metadata": {},
   "outputs": [
    {
     "name": "stderr",
     "output_type": "stream",
     "text": [
      "/home/justatom/Project/jack/jack/tooling/remote.py:9: TqdmExperimentalWarning: Using `tqdm.autonotebook.tqdm` in notebook mode. Use `tqdm.tqdm` instead to force console mode (e.g. in jupyter console)\n",
      "  from tqdm.autonotebook import tqdm\n"
     ]
    },
    {
     "ename": "TypeError",
     "evalue": "Too few parameters for typing.Dict; actual 1, expected 2",
     "output_type": "error",
     "traceback": [
      "\u001b[0;31m---------------------------------------------------------------------------\u001b[0m",
      "\u001b[0;31mTypeError\u001b[0m                                 Traceback (most recent call last)",
      "\u001b[1;32m/home/justatom/Project/jack/notebook/memo.ipynb Cell 1\u001b[0m in \u001b[0;36m<cell line: 1>\u001b[0;34m()\u001b[0m\n\u001b[0;32m----> <a href='vscode-notebook-cell://wsl%2Bubuntu-22.04/home/justatom/Project/jack/notebook/memo.ipynb#W0sdnNjb2RlLXJlbW90ZQ%3D%3D?line=0'>1</a>\u001b[0m \u001b[39mfrom\u001b[39;00m \u001b[39mjack\u001b[39;00m\u001b[39m.\u001b[39;00m\u001b[39mstoring\u001b[39;00m\u001b[39m.\u001b[39;00m\u001b[39mmodule\u001b[39;00m \u001b[39mimport\u001b[39;00m memo\n",
      "File \u001b[0;32m~/Project/jack/jack/storing/module/memo.py:11\u001b[0m, in \u001b[0;36m<module>\u001b[0;34m\u001b[0m\n\u001b[1;32m      9\u001b[0m \u001b[39mfrom\u001b[39;00m \u001b[39mjack\u001b[39;00m\u001b[39m.\u001b[39;00m\u001b[39metc\u001b[39;00m \u001b[39mimport\u001b[39;00m Document, Label\n\u001b[1;32m     10\u001b[0m \u001b[39mfrom\u001b[39;00m \u001b[39mjack\u001b[39;00m\u001b[39m.\u001b[39;00m\u001b[39mfinding\u001b[39;00m\u001b[39m.\u001b[39;00m\u001b[39miface\u001b[39;00m \u001b[39mimport\u001b[39;00m finder\n\u001b[0;32m---> 11\u001b[0m \u001b[39mfrom\u001b[39;00m \u001b[39mjack\u001b[39;00m\u001b[39m.\u001b[39;00m\u001b[39mstoring\u001b[39;00m\u001b[39m.\u001b[39;00m\u001b[39miface\u001b[39;00m \u001b[39mimport\u001b[39;00m store\n\u001b[1;32m     12\u001b[0m \u001b[39mfrom\u001b[39;00m \u001b[39mjack\u001b[39;00m\u001b[39m.\u001b[39;00m\u001b[39mtooling\u001b[39;00m\u001b[39m.\u001b[39;00m\u001b[39msql\u001b[39;00m \u001b[39mimport\u001b[39;00m LogicalFilterClause\n\u001b[1;32m     13\u001b[0m \u001b[39mfrom\u001b[39;00m \u001b[39mjack\u001b[39;00m\u001b[39m.\u001b[39;00m\u001b[39mtooling\u001b[39;00m\u001b[39m.\u001b[39;00m\u001b[39mtool\u001b[39;00m \u001b[39mimport\u001b[39;00m get_batches_from_generator, initialize_device_settings\n",
      "File \u001b[0;32m~/Project/jack/jack/storing/iface/store.py:11\u001b[0m, in \u001b[0;36m<module>\u001b[0;34m\u001b[0m\n\u001b[1;32m      9\u001b[0m \u001b[39mfrom\u001b[39;00m \u001b[39mjack\u001b[39;00m\u001b[39m.\u001b[39;00m\u001b[39metc\u001b[39;00m \u001b[39mimport\u001b[39;00m Document, Label, MultiLabel\n\u001b[1;32m     10\u001b[0m \u001b[39mfrom\u001b[39;00m \u001b[39mjack\u001b[39;00m\u001b[39m.\u001b[39;00m\u001b[39mfinding\u001b[39;00m\u001b[39m.\u001b[39;00m\u001b[39miface\u001b[39;00m \u001b[39mimport\u001b[39;00m finder\n\u001b[0;32m---> 11\u001b[0m \u001b[39mfrom\u001b[39;00m \u001b[39mjack\u001b[39;00m\u001b[39m.\u001b[39;00m\u001b[39mtooling\u001b[39;00m\u001b[39m.\u001b[39;00m\u001b[39mpipe\u001b[39;00m \u001b[39mimport\u001b[39;00m eval_data_from_json, eval_data_from_jsonl, squad_json_to_jsonl\n\u001b[1;32m     13\u001b[0m logger \u001b[39m=\u001b[39m logging\u001b[39m.\u001b[39mgetLogger(\u001b[39m__name__\u001b[39m)\n\u001b[1;32m     15\u001b[0m \u001b[39mtry\u001b[39;00m:\n",
      "File \u001b[0;32m~/Project/jack/jack/tooling/pipe.py:9\u001b[0m, in \u001b[0;36m<module>\u001b[0;34m\u001b[0m\n\u001b[1;32m      7\u001b[0m \u001b[39mimport\u001b[39;00m \u001b[39msimplejson\u001b[39;00m\n\u001b[1;32m      8\u001b[0m \u001b[39mfrom\u001b[39;00m \u001b[39mjack\u001b[39;00m\u001b[39m.\u001b[39;00m\u001b[39metc\u001b[39;00m \u001b[39mimport\u001b[39;00m Answer, Document, Label, Span\n\u001b[0;32m----> 9\u001b[0m \u001b[39mfrom\u001b[39;00m \u001b[39mjack\u001b[39;00m\u001b[39m.\u001b[39;00m\u001b[39mrecoiling\u001b[39;00m\u001b[39m.\u001b[39;00m\u001b[39mmodule\u001b[39;00m \u001b[39mimport\u001b[39;00m recoil\n\u001b[1;32m     11\u001b[0m logger \u001b[39m=\u001b[39m logging\u001b[39m.\u001b[39mgetLogger(\u001b[39m__name__\u001b[39m)\n\u001b[1;32m     13\u001b[0m morpher \u001b[39m=\u001b[39m recoil\u001b[39m.\u001b[39mMorpher(tags\u001b[39m=\u001b[39m\u001b[39m\"\u001b[39m\u001b[39m\"\u001b[39m)\n",
      "File \u001b[0;32m~/Project/jack/jack/recoiling/module/recoil.py:11\u001b[0m, in \u001b[0;36m<module>\u001b[0;34m\u001b[0m\n\u001b[1;32m      7\u001b[0m \u001b[39mfrom\u001b[39;00m \u001b[39mjack\u001b[39;00m\u001b[39m.\u001b[39;00m\u001b[39mrecoiling\u001b[39;00m\u001b[39m.\u001b[39;00m\u001b[39miface\u001b[39;00m \u001b[39mimport\u001b[39;00m recoil\n\u001b[1;32m      8\u001b[0m \u001b[39mfrom\u001b[39;00m \u001b[39mjack\u001b[39;00m\u001b[39m.\u001b[39;00m\u001b[39mtooling\u001b[39;00m \u001b[39mimport\u001b[39;00m io, stl\n\u001b[0;32m---> 11\u001b[0m \u001b[39mclass\u001b[39;00m \u001b[39mStopper\u001b[39;00m(recoil\u001b[39m.\u001b[39mIState):\n\u001b[1;32m     13\u001b[0m     \u001b[39m\"\"\"\u001b[39;00m\n\u001b[1;32m     14\u001b[0m \u001b[39m    Class for storing stopwords list along with the method to remove them\u001b[39;00m\n\u001b[1;32m     15\u001b[0m \u001b[39m    \"\"\"\u001b[39;00m\n\u001b[1;32m     17\u001b[0m     \u001b[39mdef\u001b[39;00m \u001b[39m__init__\u001b[39m(\u001b[39mself\u001b[39m, fpath):\n",
      "File \u001b[0;32m~/Project/jack/jack/recoiling/module/recoil.py:24\u001b[0m, in \u001b[0;36mStopper\u001b[0;34m()\u001b[0m\n\u001b[1;32m     21\u001b[0m         \u001b[39mfor\u001b[39;00m w \u001b[39min\u001b[39;00m io\u001b[39m.\u001b[39mchunkify(f):\n\u001b[1;32m     22\u001b[0m             \u001b[39mself\u001b[39m\u001b[39m.\u001b[39mstore\u001b[39m.\u001b[39madd(w\u001b[39m.\u001b[39mlower())\n\u001b[0;32m---> 24\u001b[0m \u001b[39mdef\u001b[39;00m \u001b[39m__call__\u001b[39m(\u001b[39mself\u001b[39m, x: Iterable, \u001b[39m*\u001b[39margs, \u001b[39m*\u001b[39m\u001b[39m*\u001b[39mkwargs) \u001b[39m-\u001b[39m\u001b[39m>\u001b[39m List[Dict[\u001b[39mstr\u001b[39;49m]]:\n\u001b[1;32m     25\u001b[0m     response \u001b[39m=\u001b[39m []\n\u001b[1;32m     26\u001b[0m     ptr \u001b[39m=\u001b[39m stl\u001b[39m.\u001b[39mNIterator(x)\n",
      "File \u001b[0;32m~/miniforge3/lib/python3.9/typing.py:277\u001b[0m, in \u001b[0;36m_tp_cache.<locals>.decorator.<locals>.inner\u001b[0;34m(*args, **kwds)\u001b[0m\n\u001b[1;32m    275\u001b[0m \u001b[39mexcept\u001b[39;00m \u001b[39mTypeError\u001b[39;00m:\n\u001b[1;32m    276\u001b[0m     \u001b[39mpass\u001b[39;00m  \u001b[39m# All real errors (not unhashable args) are raised below.\u001b[39;00m\n\u001b[0;32m--> 277\u001b[0m \u001b[39mreturn\u001b[39;00m func(\u001b[39m*\u001b[39;49margs, \u001b[39m*\u001b[39;49m\u001b[39m*\u001b[39;49mkwds)\n",
      "File \u001b[0;32m~/miniforge3/lib/python3.9/typing.py:838\u001b[0m, in \u001b[0;36m_SpecialGenericAlias.__getitem__\u001b[0;34m(self, params)\u001b[0m\n\u001b[1;32m    836\u001b[0m msg \u001b[39m=\u001b[39m \u001b[39m\"\u001b[39m\u001b[39mParameters to generic types must be types.\u001b[39m\u001b[39m\"\u001b[39m\n\u001b[1;32m    837\u001b[0m params \u001b[39m=\u001b[39m \u001b[39mtuple\u001b[39m(_type_check(p, msg) \u001b[39mfor\u001b[39;00m p \u001b[39min\u001b[39;00m params)\n\u001b[0;32m--> 838\u001b[0m _check_generic(\u001b[39mself\u001b[39;49m, params, \u001b[39mself\u001b[39;49m\u001b[39m.\u001b[39;49m_nparams)\n\u001b[1;32m    839\u001b[0m \u001b[39mreturn\u001b[39;00m \u001b[39mself\u001b[39m\u001b[39m.\u001b[39mcopy_with(params)\n",
      "File \u001b[0;32m~/jarvis/lib/python3.9/site-packages/typing_extensions.py:104\u001b[0m, in \u001b[0;36m_check_generic\u001b[0;34m(cls, parameters, elen)\u001b[0m\n\u001b[1;32m    102\u001b[0m     \u001b[39mif\u001b[39;00m (num_tv_tuples \u001b[39m>\u001b[39m \u001b[39m0\u001b[39m) \u001b[39mand\u001b[39;00m (alen \u001b[39m>\u001b[39m\u001b[39m=\u001b[39m elen \u001b[39m-\u001b[39m num_tv_tuples):\n\u001b[1;32m    103\u001b[0m         \u001b[39mreturn\u001b[39;00m\n\u001b[0;32m--> 104\u001b[0m \u001b[39mraise\u001b[39;00m \u001b[39mTypeError\u001b[39;00m(\u001b[39mf\u001b[39m\u001b[39m\"\u001b[39m\u001b[39mToo \u001b[39m\u001b[39m{\u001b[39;00m\u001b[39m'\u001b[39m\u001b[39mmany\u001b[39m\u001b[39m'\u001b[39m \u001b[39mif\u001b[39;00m alen \u001b[39m>\u001b[39m elen \u001b[39melse\u001b[39;00m \u001b[39m'\u001b[39m\u001b[39mfew\u001b[39m\u001b[39m'\u001b[39m\u001b[39m}\u001b[39;00m\u001b[39m parameters for \u001b[39m\u001b[39m{\u001b[39;00m\u001b[39mcls\u001b[39m\u001b[39m}\u001b[39;00m\u001b[39m;\u001b[39m\u001b[39m\"\u001b[39m\n\u001b[1;32m    105\u001b[0m                 \u001b[39mf\u001b[39m\u001b[39m\"\u001b[39m\u001b[39m actual \u001b[39m\u001b[39m{\u001b[39;00malen\u001b[39m}\u001b[39;00m\u001b[39m, expected \u001b[39m\u001b[39m{\u001b[39;00melen\u001b[39m}\u001b[39;00m\u001b[39m\"\u001b[39m)\n",
      "\u001b[0;31mTypeError\u001b[0m: Too few parameters for typing.Dict; actual 1, expected 2"
     ]
    }
   ],
   "source": [
    "from jack.storing.module import memo"
   ]
  },
  {
   "cell_type": "code",
   "execution_count": null,
   "metadata": {},
   "outputs": [],
   "source": [
    "store = memo.MemoDocStore()"
   ]
  },
  {
   "cell_type": "code",
   "execution_count": 3,
   "metadata": {},
   "outputs": [
    {
     "name": "stderr",
     "output_type": "stream",
     "text": [
      "/home/justatom/jarvis/lib/python3.9/site-packages/numpy/core/fromnumeric.py:3432: RuntimeWarning: Mean of empty slice.\n",
      "  return _methods._mean(a, axis=axis, dtype=dtype,\n",
      "/home/justatom/jarvis/lib/python3.9/site-packages/numpy/core/_methods.py:190: RuntimeWarning: invalid value encountered in double_scalars\n",
      "  ret = ret.dtype.type(ret / rcount)\n"
     ]
    },
    {
     "ename": "ValueError",
     "evalue": "max() arg is an empty sequence",
     "output_type": "error",
     "traceback": [
      "\u001b[0;31m---------------------------------------------------------------------------\u001b[0m",
      "\u001b[0;31mValueError\u001b[0m                                Traceback (most recent call last)",
      "\u001b[1;32m/home/justatom/Project/jack/notebook/memo.ipynb Cell 3\u001b[0m in \u001b[0;36m<cell line: 1>\u001b[0;34m()\u001b[0m\n\u001b[0;32m----> <a href='vscode-notebook-cell://wsl%2Bubuntu-22.04/home/justatom/Project/jack/notebook/memo.ipynb#W2sdnNjb2RlLXJlbW90ZQ%3D%3D?line=0'>1</a>\u001b[0m store\u001b[39m.\u001b[39;49mdescribe_documents()\n",
      "File \u001b[0;32m~/Project/jack/jack/storing/iface/store.py:546\u001b[0m, in \u001b[0;36mDocStore.describe_documents\u001b[0;34m(self, index)\u001b[0m\n\u001b[1;32m    540\u001b[0m docs \u001b[39m=\u001b[39m \u001b[39mself\u001b[39m\u001b[39m.\u001b[39mget_all_documents(index)\n\u001b[1;32m    542\u001b[0m l \u001b[39m=\u001b[39m [\u001b[39mlen\u001b[39m(d\u001b[39m.\u001b[39mcontent) \u001b[39mfor\u001b[39;00m d \u001b[39min\u001b[39;00m docs]\n\u001b[1;32m    543\u001b[0m stats \u001b[39m=\u001b[39m {\n\u001b[1;32m    544\u001b[0m     \u001b[39m\"\u001b[39m\u001b[39mcount\u001b[39m\u001b[39m\"\u001b[39m: \u001b[39mlen\u001b[39m(docs),\n\u001b[1;32m    545\u001b[0m     \u001b[39m\"\u001b[39m\u001b[39mchars_mean\u001b[39m\u001b[39m\"\u001b[39m: np\u001b[39m.\u001b[39mmean(l),\n\u001b[0;32m--> 546\u001b[0m     \u001b[39m\"\u001b[39m\u001b[39mchars_max\u001b[39m\u001b[39m\"\u001b[39m: \u001b[39mmax\u001b[39;49m(l),\n\u001b[1;32m    547\u001b[0m     \u001b[39m\"\u001b[39m\u001b[39mchars_min\u001b[39m\u001b[39m\"\u001b[39m: \u001b[39mmin\u001b[39m(l),\n\u001b[1;32m    548\u001b[0m     \u001b[39m\"\u001b[39m\u001b[39mchars_median\u001b[39m\u001b[39m\"\u001b[39m: np\u001b[39m.\u001b[39mmedian(l),\n\u001b[1;32m    549\u001b[0m }\n\u001b[1;32m    550\u001b[0m \u001b[39mreturn\u001b[39;00m stats\n",
      "\u001b[0;31mValueError\u001b[0m: max() arg is an empty sequence"
     ]
    }
   ],
   "source": [
    "store.describe_documents()"
   ]
  },
  {
   "cell_type": "code",
   "execution_count": null,
   "metadata": {},
   "outputs": [],
   "source": []
  }
 ],
 "metadata": {
  "kernelspec": {
   "display_name": "Python 3.9.13 ('jarvis')",
   "language": "python",
   "name": "python3"
  },
  "language_info": {
   "codemirror_mode": {
    "name": "ipython",
    "version": 3
   },
   "file_extension": ".py",
   "mimetype": "text/x-python",
   "name": "python",
   "nbconvert_exporter": "python",
   "pygments_lexer": "ipython3",
   "version": "3.9.13"
  },
  "orig_nbformat": 4,
  "vscode": {
   "interpreter": {
    "hash": "65185d064a1c8bbb51830523107cc6bf50e52ff4f53a2087cceea2e34fb5999d"
   }
  }
 },
 "nbformat": 4,
 "nbformat_minor": 2
}
