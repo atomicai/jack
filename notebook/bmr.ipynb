{
 "cells": [
  {
   "cell_type": "code",
   "execution_count": 1,
   "metadata": {},
   "outputs": [],
   "source": [
    "from jack.finding.module import bm"
   ]
  },
  {
   "cell_type": "code",
   "execution_count": 2,
   "metadata": {},
   "outputs": [],
   "source": [
    "doc1 = \"We walk towards the Seam in silence. I don't like that Gale took a dig at Madge, but he's right, of course. The reaping system is unfair, with the poor getting the worst of it. You become eligible for the reaping the day you turn twelve. That year, your name is entered once. At thirteen, twice. And so on and so on until you reach the age of eighteen, the final year of eligibility, when your name goes into the pool seven times. That's true for every citizen in all twelve districts in the entire country of Panem.\"\n",
    "doc2 = \"Just as the town clock strikes two, the mayor steps up to the podium and begins to read. It's the same story every year. He tells of the history of Panem, the country that rose up out of the ashes of a place that was once called North America. He lists the disasters, the droughts, the storms, the fires, the encroaching seas that swallowed up so much of the land, the brutal war for what little sustenance remained. The result was Panem, a shining Capitol ringed by thirteen districts, which brought peace and prosperity to its citizens. Then came the Dark Days, the uprising of the districts against the Capitol. Twelve were defeated, the thirteenth obliterated. The Treaty of Treason gave us the new laws to guarantee peace and, as our yearly reminder that the Dark Days must never be repeated, it gave us the Hunger Games.\"\n",
    "doc3 = \"The rules of the Hunger Games are simple. In punishment for the uprising, each of the twelve districts must provide one girl and one boy, called tributes, to participate. The twenty-four tributes will be imprisoned in a vast outdoor arena that could hold anything from a burning desert to a frozen wasteland. Over a period of several weeks, the competitors must fight to the death. The last tribute standing wins.\""
   ]
  },
  {
   "cell_type": "code",
   "execution_count": 3,
   "metadata": {},
   "outputs": [],
   "source": [
    "docs = [doc1, doc2, doc3]"
   ]
  },
  {
   "cell_type": "code",
   "execution_count": 4,
   "metadata": {},
   "outputs": [],
   "source": [
    "corpus = [\n",
    "    d.split(\" \") for d in docs\n",
    "]"
   ]
  },
  {
   "cell_type": "code",
   "execution_count": 5,
   "metadata": {},
   "outputs": [],
   "source": [
    "retriever = bm.BMORetriever(\n",
    "    corpus\n",
    ")"
   ]
  },
  {
   "cell_type": "code",
   "execution_count": 10,
   "metadata": {},
   "outputs": [
    {
     "data": {
      "text/plain": [
       "{'The': 3,\n",
       " 'rules': 1,\n",
       " 'of': 3,\n",
       " 'the': 5,\n",
       " 'Hunger': 1,\n",
       " 'Games': 1,\n",
       " 'are': 1,\n",
       " 'simple.': 1,\n",
       " 'In': 1,\n",
       " 'punishment': 1,\n",
       " 'for': 1,\n",
       " 'uprising,': 1,\n",
       " 'each': 1,\n",
       " 'twelve': 1,\n",
       " 'districts': 1,\n",
       " 'must': 2,\n",
       " 'provide': 1,\n",
       " 'one': 2,\n",
       " 'girl': 1,\n",
       " 'and': 1,\n",
       " 'boy,': 1,\n",
       " 'called': 1,\n",
       " 'tributes,': 1,\n",
       " 'to': 3,\n",
       " 'participate.': 1,\n",
       " 'twenty-four': 1,\n",
       " 'tributes': 1,\n",
       " 'will': 1,\n",
       " 'be': 1,\n",
       " 'imprisoned': 1,\n",
       " 'in': 1,\n",
       " 'a': 4,\n",
       " 'vast': 1,\n",
       " 'outdoor': 1,\n",
       " 'arena': 1,\n",
       " 'that': 1,\n",
       " 'could': 1,\n",
       " 'hold': 1,\n",
       " 'anything': 1,\n",
       " 'from': 1,\n",
       " 'burning': 1,\n",
       " 'desert': 1,\n",
       " 'frozen': 1,\n",
       " 'wasteland.': 1,\n",
       " 'Over': 1,\n",
       " 'period': 1,\n",
       " 'several': 1,\n",
       " 'weeks,': 1,\n",
       " 'competitors': 1,\n",
       " 'fight': 1,\n",
       " 'death.': 1,\n",
       " 'last': 1,\n",
       " 'tribute': 1,\n",
       " 'standing': 1,\n",
       " 'wins.': 1}"
      ]
     },
     "execution_count": 10,
     "metadata": {},
     "output_type": "execute_result"
    }
   ],
   "source": [
    "retriever.doc_freqs[2]"
   ]
  },
  {
   "cell_type": "code",
   "execution_count": 11,
   "metadata": {},
   "outputs": [
    {
     "data": {
      "text/plain": [
       "[98, 147, 70]"
      ]
     },
     "execution_count": 11,
     "metadata": {},
     "output_type": "execute_result"
    }
   ],
   "source": [
    "retriever.doc_len"
   ]
  },
  {
   "cell_type": "code",
   "execution_count": null,
   "metadata": {},
   "outputs": [],
   "source": []
  }
 ],
 "metadata": {
  "kernelspec": {
   "display_name": "Python 3.9.13 64-bit",
   "language": "python",
   "name": "python3"
  },
  "language_info": {
   "codemirror_mode": {
    "name": "ipython",
    "version": 3
   },
   "file_extension": ".py",
   "mimetype": "text/x-python",
   "name": "python",
   "nbconvert_exporter": "python",
   "pygments_lexer": "ipython3",
   "version": "3.9.13"
  },
  "orig_nbformat": 4,
  "vscode": {
   "interpreter": {
    "hash": "65185d064a1c8bbb51830523107cc6bf50e52ff4f53a2087cceea2e34fb5999d"
   }
  }
 },
 "nbformat": 4,
 "nbformat_minor": 2
}
