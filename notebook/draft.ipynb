{
 "cells": [
  {
   "cell_type": "code",
   "execution_count": 1,
   "metadata": {},
   "outputs": [],
   "source": [
    "from transformers import DistilBertTokenizerFast, AutoModel"
   ]
  },
  {
   "cell_type": "code",
   "execution_count": 7,
   "metadata": {},
   "outputs": [],
   "source": [
    "from jack.tooling import pipe\n",
    "import pathlib"
   ]
  },
  {
   "cell_type": "code",
   "execution_count": 8,
   "metadata": {},
   "outputs": [],
   "source": [
    "label_list = [\n",
    "        \"Вопросы по порядку начисления процентов/размере процентной ставки по накопительному счету или счету \\\"Активный возраст\\\" (почему такая ставка/почему уменьшается ставка/как начисляются проценты/как начисляются проценты при досрочном закрытии вклада/не согласен с начисленными процентами, но проценты начислены корректно и пояснен порядок начисления %)\",\n",
    "        \"Подбор вклада/условия вклада, который планирует открыть (какие вклады есть в СБ/какой вклад выгодней/размер ставки/какой вклад подойдет для совершения определенной операции/условия вклада по поступившему предложению от банка/какие приходные или расходные операции доступны/ограничения по сумме открытия или пополнения)\",\n",
    "        \"Способы или сроки закрытия вклада/можно ли закрыть вклад досрочно (в том числе, как закрыть в СБОЛ/МП/как закрыть валютный вклад без конвертации)\",\n",
    "        \"Условия/порядок проведений операций по действующему вкладу (срок вклада/сколько средств должно храниться на вкладе, чтобы он не был закрыт/какие доступны операции/где можно снять средства со вклада/какие документы нужны для проведения операций по вкладу)\",\n",
    "        \"Порядок начисления процентов по вкладам, кроме Накопительного счета и Активный возраст (когда или как начисляются проценты/периодичность капитализации/как начисляются проценты при досрочном закрытии вклада/какой процент будет при дополнительном взносе/не согласен с начисленными процентами, но проценты начислены корректно и пояснен порядок начисления)\",\n",
    "        \"Порядок пролонгации вклада (нужно ли обращаться в ВСП для продления вклада/продлевается ли вклад автоматически/можно ли досрочно продлить вклад/можно ли не продлевать вклад/по какой ставке произойдет пролонгация вклада/меняются ли реквизиты при пролонгации/на какую сумму пролонгируется вклад, с учетом или без учета уже начисленных процентов/в какое время произойдет пролонгация)\",\n",
    "        \"Порядок или способы открытия вклада/счета (как или где открыть/кто может открыть/какие документы нужны для открытия/пояснения по интерфейсу СБОЛ или МП при открытии)\",\n",
    "        \"Как/когда возможно получить проценты или закрыть вклад, чтобы не потерять начисленные проценты (в т.ч. когда дата приходится на выходной/праздничный день)\",\n",
    "        \"UNKNOWN\",\n",
    "    ]"
   ]
  },
  {
   "cell_type": "code",
   "execution_count": 9,
   "metadata": {},
   "outputs": [],
   "source": [
    "metric = \"f1_micro\""
   ]
  },
  {
   "cell_type": "code",
   "execution_count": 12,
   "metadata": {},
   "outputs": [],
   "source": [
    "lang_model = \"distilbert-base-multilingual-cased\"\n",
    "do_lower_case = False\n",
    "data_dir = pathlib.Path.home() / \"Dataset\" / \"rc\"\n",
    "dev_stratification = True\n",
    "save_dir=pathlib.Path.home() / \"Weights\" / \"output\" / \"mbert-distilled-cased_rc\""
   ]
  },
  {
   "cell_type": "code",
   "execution_count": 11,
   "metadata": {},
   "outputs": [
    {
     "name": "stderr",
     "output_type": "stream",
     "text": [
      "09/07/2022 17:49:43 - INFO - farm.modeling.tokenization -   Loading tokenizer of type 'DistilBertTokenizer'\n",
      "09/07/2022 17:49:47 - INFO - farm.data_handler.data_silo -   \n",
      "Loading data into the data silo ... \n",
      "              ______\n",
      "               |o  |   !\n",
      "   __          |:`_|---'-.\n",
      "  |__|______.-/ _ \\-----.|       \n",
      " (o)(o)------'\\ _ /     ( )      \n",
      " \n",
      "09/07/2022 17:49:47 - INFO - farm.data_handler.data_silo -   LOADING TRAIN DATA\n",
      "09/07/2022 17:49:47 - INFO - farm.data_handler.data_silo -   ==================\n",
      "09/07/2022 17:49:47 - INFO - farm.data_handler.data_silo -   Loading train set from: /home/justatom/Dataset/rc/x_july.csv \n",
      "09/07/2022 17:49:48 - INFO - farm.data_handler.data_silo -   Multiprocessing disabled, using a single worker to convert 3737 dictionaries to pytorch datasets.\n",
      "Preprocessing Dataset /home/justatom/Dataset/rc/x_july.csv:   0%|          | 0/3737 [00:00<?, ? Dicts/s]09/07/2022 17:49:48 - INFO - farm.data_handler.processor -   *** Show 1 random examples ***\n",
      "09/07/2022 17:49:48 - INFO - farm.data_handler.processor -   \n",
      "\n",
      "      .--.        _____                       _      \n",
      "    .'_\\/_'.     / ____|                     | |     \n",
      "    '. /\\ .'    | (___   __ _ _ __ ___  _ __ | | ___ \n",
      "      \"||\"       \\___ \\ / _` | '_ ` _ \\| '_ \\| |/ _ \\ \n",
      "       || /\\     ____) | (_| | | | | | | |_) | |  __/\n",
      "    /\\ ||//\\)   |_____/ \\__,_|_| |_| |_| .__/|_|\\___|\n",
      "   (/\\||/                             |_|           \n",
      "______\\||/___________________________________________                     \n",
      "\n",
      "ID: None\n",
      "Clear Text: \n",
      " \ttext: ну не знаю смска мне пришла.  но он открыт девяносто восемь тридцать последние ноль ноль рублей там как перечислить деньги.  спасибо большое до свидания.  так зайти куда платежи переводы да.  а ну тогда это тогда другое а как мне накопительный счет открыть.  мы сняли сто рублей за открытие наконе накопительного счета а деньги тридцать тысяч хотела понять.  да.  алло.  будьте добры подскажите мне я хотела накопительный счет открыть который или месяца под под восемь процентов потом по шестьдесят шесть че то не получилось сто рублей снялось за снятие за открытие счета деньги тогда ноль рублей.  здравствуйте девушка.  что мне сто рублей вернули положить тридцать тысяч.  как бы.  накопительный счет типа открыть. \n",
      " \ttext_classification_label: UNKNOWN\n",
      "Tokenized: \n",
      " \tNone\n",
      "Features: \n",
      " \tinput_ids: [101, 554, 10227, 10375, 548, 10409, 10593, 16541, 12184, 67251, 10913, 30520, 119, 11279, 11060, 60427, 109910, 18971, 33580, 10316, 101625, 13251, 93283, 52419, 11279, 12118, 11279, 12118, 54298, 18805, 10949, 61381, 94218, 34509, 11258, 73305, 119, 558, 107528, 29709, 49691, 10344, 60763, 72216, 119, 12123, 10234, 37756, 68734, 556, 30828, 49867, 10191, 70659, 10292, 10405, 119, 541, 554, 10227, 31816, 12999, 31816, 104188, 541, 10949, 67251, 10122, 82947, 95144, 558, 54697, 60427, 10851, 119, 35818, 558, 85672, 108804, 54298, 10234, 60427, 12686, 27135, 10205, 10122, 82947, 49280, 11050, 558, 69022, 541, 73305, 13251, 93283, 25330, 83441, 10179, 10297, 46886, 119, 10405, 119, 21720, 11602, 119, 38092, 10696, 10344, 85584, 10292, 11429, 12184, 59909, 10205, 67251, 572, 83441, 10179, 10122, 82947, 95144, 558, 54697, 60427, 10851, 12968, 10880, 65794, 11429, 11429, 101625, 12709, 60515, 10433, 37706, 10297, 60406, 12265, 83125, 60406, 14816, 11663, 10375, 16308, 16353, 108804, 54298, 558, 47514, 16353, 10234, 108302, 12686, 10234, 60427, 12686, 558, 69022, 73305, 31816, 11279, 12118, 54298, 119, 548, 35865, 10541, 23272, 34515, 10205, 109910, 58610, 119, 10791, 67251, 108804, 54298, 543, 80369, 30102, 23750, 10316, 36760, 13251, 93283, 25330, 119, 10949, 22504, 119, 102]\n",
      " \tpadding_mask: [1, 1, 1, 1, 1, 1, 1, 1, 1, 1, 1, 1, 1, 1, 1, 1, 1, 1, 1, 1, 1, 1, 1, 1, 1, 1, 1, 1, 1, 1, 1, 1, 1, 1, 1, 1, 1, 1, 1, 1, 1, 1, 1, 1, 1, 1, 1, 1, 1, 1, 1, 1, 1, 1, 1, 1, 1, 1, 1, 1, 1, 1, 1, 1, 1, 1, 1, 1, 1, 1, 1, 1, 1, 1, 1, 1, 1, 1, 1, 1, 1, 1, 1, 1, 1, 1, 1, 1, 1, 1, 1, 1, 1, 1, 1, 1, 1, 1, 1, 1, 1, 1, 1, 1, 1, 1, 1, 1, 1, 1, 1, 1, 1, 1, 1, 1, 1, 1, 1, 1, 1, 1, 1, 1, 1, 1, 1, 1, 1, 1, 1, 1, 1, 1, 1, 1, 1, 1, 1, 1, 1, 1, 1, 1, 1, 1, 1, 1, 1, 1, 1, 1, 1, 1, 1, 1, 1, 1, 1, 1, 1, 1, 1, 1, 1, 1, 1, 1, 1, 1, 1, 1, 1, 1, 1, 1, 1, 1, 1, 1, 1, 1, 1, 1, 1, 1, 1, 1, 1, 1, 1, 1]\n",
      " \tsegment_ids: [0, 0, 0, 0, 0, 0, 0, 0, 0, 0, 0, 0, 0, 0, 0, 0, 0, 0, 0, 0, 0, 0, 0, 0, 0, 0, 0, 0, 0, 0, 0, 0, 0, 0, 0, 0, 0, 0, 0, 0, 0, 0, 0, 0, 0, 0, 0, 0, 0, 0, 0, 0, 0, 0, 0, 0, 0, 0, 0, 0, 0, 0, 0, 0, 0, 0, 0, 0, 0, 0, 0, 0, 0, 0, 0, 0, 0, 0, 0, 0, 0, 0, 0, 0, 0, 0, 0, 0, 0, 0, 0, 0, 0, 0, 0, 0, 0, 0, 0, 0, 0, 0, 0, 0, 0, 0, 0, 0, 0, 0, 0, 0, 0, 0, 0, 0, 0, 0, 0, 0, 0, 0, 0, 0, 0, 0, 0, 0, 0, 0, 0, 0, 0, 0, 0, 0, 0, 0, 0, 0, 0, 0, 0, 0, 0, 0, 0, 0, 0, 0, 0, 0, 0, 0, 0, 0, 0, 0, 0, 0, 0, 0, 0, 0, 0, 0, 0, 0, 0, 0, 0, 0, 0, 0, 0, 0, 0, 0, 0, 0, 0, 0, 0, 0, 0, 0, 0, 0, 0, 0, 0, 0]\n",
      " \ttext_classification_label_ids: [8]\n",
      "_____________________________________________________\n",
      "09/07/2022 17:49:48 - WARNING - farm.data_handler.processor -   Currently no support in Processor for returning problematic ids\n",
      "Preprocessing Dataset /home/justatom/Dataset/rc/x_july.csv:  20%|██        | 748/3737 [00:00<00:02, 1130.72 Dicts/s]\n",
      "09/07/2022 17:49:48 - INFO - farm.data_handler.data_silo -   \n",
      "09/07/2022 17:49:48 - INFO - farm.data_handler.data_silo -   LOADING DEV DATA\n",
      "09/07/2022 17:49:48 - INFO - farm.data_handler.data_silo -   =================\n",
      "09/07/2022 17:49:48 - INFO - farm.data_handler.data_silo -   Loading dev set from: /home/justatom/Dataset/rc/y_july.csv\n",
      "09/07/2022 17:49:48 - INFO - farm.data_handler.data_silo -   Multiprocessing disabled, using a single worker to convert 977 dictionaries to pytorch datasets.\n",
      "Preprocessing Dataset /home/justatom/Dataset/rc/y_july.csv:   0%|          | 0/977 [00:00<?, ? Dicts/s]09/07/2022 17:49:48 - INFO - farm.data_handler.processor -   *** Show 1 random examples ***\n",
      "09/07/2022 17:49:48 - INFO - farm.data_handler.processor -   \n",
      "\n",
      "      .--.        _____                       _      \n",
      "    .'_\\/_'.     / ____|                     | |     \n",
      "    '. /\\ .'    | (___   __ _ _ __ ___  _ __ | | ___ \n",
      "      \"||\"       \\___ \\ / _` | '_ ` _ \\| '_ \\| |/ _ \\ \n",
      "       || /\\     ____) | (_| | | | | | | |_) | |  __/\n",
      "    /\\ ||//\\)   |_____/ \\__,_|_| |_| |_| .__/|_|\\___|\n",
      "   (/\\||/                             |_|           \n",
      "______\\||/___________________________________________                     \n",
      "\n",
      "ID: None\n",
      "Clear Text: \n",
      " \ttext: и процентная ставка будет восемь процентов также.  ну.  она говорит.  все спасибо большое.  просто у меня знакомый сказал что у нее ежемесячный один процент то есть двенадцать процентов годовых.  угу.  я сегодня открыла сама онлайн счет активный возраст там было указано что восемь процентов у меня показывает после вложения денег и открыть его шесть процентов.  было объяснение что в течение суток этот процент поменяется на восемь если я пенсию получаю на ну в сбербанке.  да максимальный.  угу так как я пенсию получаю у вас в сбербанке.  но я читала там.  до свидания.  здравствуйте.  вклад онлайн.  ежемесячные начисления также у меня идут проценты на один процент в месяц ну то есть если двенадцать.  да и в течение суток она поменяется на восемь процентов ставка да.  ну она сказала что это онлайн потом онлайн.  я че то это у себя такого не нашла.  ну в общем у меня самая удобная покупка отключился потому что там и снять и положить можно закрыть в любое время.  может быть раньше было больше просто процент был.  правильно видела.  а другого что то какого то более высокого нету никакого процента вклада. \n",
      " \ttext_classification_label: Подбор вклада/условия вклада, который планирует открыть (какие вклады есть в СБ/какой вклад выгодней/размер ставки/какой вклад подойдет для совершения определенной операции/условия вклада по поступившему предложению от банка/какие приходные или расходные операции доступны/ограничения по сумме открытия или пополнения)\n",
      "Tokenized: \n",
      " \tNone\n",
      "Features: \n",
      " \tinput_ids: [101, 549, 12709, 60515, 11548, 16673, 10521, 22366, 101625, 12709, 60515, 10433, 11448, 119, 554, 10227, 119, 13976, 53423, 119, 13686, 558, 107528, 29709, 49691, 119, 31108, 560, 57132, 104312, 13865, 67738, 10791, 560, 10375, 10205, 546, 15920, 14689, 10625, 25711, 13713, 12709, 60515, 11663, 17622, 14919, 89495, 12709, 60515, 10433, 18148, 12861, 119, 560, 15528, 119, 572, 72166, 10332, 89038, 10179, 49359, 88162, 558, 54697, 95301, 81410, 71473, 18805, 11582, 51941, 74707, 10316, 10791, 101625, 12709, 60515, 10433, 560, 57132, 45899, 46702, 11921, 543, 54256, 105378, 549, 60427, 10851, 10933, 60406, 12709, 60515, 10433, 119, 11582, 13248, 89982, 43574, 13541, 10791, 543, 21148, 10587, 20422, 19558, 12709, 60515, 96358, 10928, 43128, 10122, 101625, 23263, 572, 42607, 76726, 91258, 13035, 10593, 10122, 554, 10227, 543, 558, 43692, 34083, 11557, 119, 10405, 97744, 18705, 17804, 23323, 119, 560, 15528, 12123, 10949, 572, 42607, 76726, 91258, 13035, 10593, 560, 12450, 10513, 543, 558, 43692, 34083, 11557, 119, 11279, 572, 17891, 61782, 18805, 119, 10344, 60763, 72216, 119, 548, 35865, 10541, 23272, 34515, 10205, 119, 54202, 88162, 119, 546, 15920, 14689, 10625, 26176, 10122, 96229, 11448, 560, 57132, 549, 110634, 12709, 60515, 10292, 10122, 102]\n",
      " \tpadding_mask: [1, 1, 1, 1, 1, 1, 1, 1, 1, 1, 1, 1, 1, 1, 1, 1, 1, 1, 1, 1, 1, 1, 1, 1, 1, 1, 1, 1, 1, 1, 1, 1, 1, 1, 1, 1, 1, 1, 1, 1, 1, 1, 1, 1, 1, 1, 1, 1, 1, 1, 1, 1, 1, 1, 1, 1, 1, 1, 1, 1, 1, 1, 1, 1, 1, 1, 1, 1, 1, 1, 1, 1, 1, 1, 1, 1, 1, 1, 1, 1, 1, 1, 1, 1, 1, 1, 1, 1, 1, 1, 1, 1, 1, 1, 1, 1, 1, 1, 1, 1, 1, 1, 1, 1, 1, 1, 1, 1, 1, 1, 1, 1, 1, 1, 1, 1, 1, 1, 1, 1, 1, 1, 1, 1, 1, 1, 1, 1, 1, 1, 1, 1, 1, 1, 1, 1, 1, 1, 1, 1, 1, 1, 1, 1, 1, 1, 1, 1, 1, 1, 1, 1, 1, 1, 1, 1, 1, 1, 1, 1, 1, 1, 1, 1, 1, 1, 1, 1, 1, 1, 1, 1, 1, 1, 1, 1, 1, 1, 1, 1, 1, 1, 1, 1, 1, 1, 1, 1, 1, 1, 1, 1]\n",
      " \tsegment_ids: [0, 0, 0, 0, 0, 0, 0, 0, 0, 0, 0, 0, 0, 0, 0, 0, 0, 0, 0, 0, 0, 0, 0, 0, 0, 0, 0, 0, 0, 0, 0, 0, 0, 0, 0, 0, 0, 0, 0, 0, 0, 0, 0, 0, 0, 0, 0, 0, 0, 0, 0, 0, 0, 0, 0, 0, 0, 0, 0, 0, 0, 0, 0, 0, 0, 0, 0, 0, 0, 0, 0, 0, 0, 0, 0, 0, 0, 0, 0, 0, 0, 0, 0, 0, 0, 0, 0, 0, 0, 0, 0, 0, 0, 0, 0, 0, 0, 0, 0, 0, 0, 0, 0, 0, 0, 0, 0, 0, 0, 0, 0, 0, 0, 0, 0, 0, 0, 0, 0, 0, 0, 0, 0, 0, 0, 0, 0, 0, 0, 0, 0, 0, 0, 0, 0, 0, 0, 0, 0, 0, 0, 0, 0, 0, 0, 0, 0, 0, 0, 0, 0, 0, 0, 0, 0, 0, 0, 0, 0, 0, 0, 0, 0, 0, 0, 0, 0, 0, 0, 0, 0, 0, 0, 0, 0, 0, 0, 0, 0, 0, 0, 0, 0, 0, 0, 0, 0, 0, 0, 0, 0, 0]\n",
      " \ttext_classification_label_ids: [1]\n",
      "_____________________________________________________\n",
      "09/07/2022 17:49:48 - WARNING - farm.data_handler.processor -   Currently no support in Processor for returning problematic ids\n",
      "Preprocessing Dataset /home/justatom/Dataset/rc/y_july.csv:  20%|██        | 196/977 [00:00<00:00, 1171.98 Dicts/s]\n",
      "09/07/2022 17:49:48 - INFO - farm.data_handler.data_silo -   \n",
      "09/07/2022 17:49:48 - INFO - farm.data_handler.data_silo -   LOADING TEST DATA\n",
      "09/07/2022 17:49:48 - INFO - farm.data_handler.data_silo -   =================\n",
      "09/07/2022 17:49:48 - INFO - farm.data_handler.data_silo -   Loading test set from: /home/justatom/Dataset/rc/y_july.csv\n",
      "09/07/2022 17:49:48 - INFO - farm.data_handler.data_silo -   Multiprocessing disabled, using a single worker to convert 977 dictionaries to pytorch datasets.\n",
      "Preprocessing Dataset /home/justatom/Dataset/rc/y_july.csv:   0%|          | 0/977 [00:00<?, ? Dicts/s]09/07/2022 17:49:49 - INFO - farm.data_handler.processor -   *** Show 1 random examples ***\n",
      "09/07/2022 17:49:49 - INFO - farm.data_handler.processor -   \n",
      "\n",
      "      .--.        _____                       _      \n",
      "    .'_\\/_'.     / ____|                     | |     \n",
      "    '. /\\ .'    | (___   __ _ _ __ ___  _ __ | | ___ \n",
      "      \"||\"       \\___ \\ / _` | '_ ` _ \\| '_ \\| |/ _ \\ \n",
      "       || /\\     ____) | (_| | | | | | | |_) | |  __/\n",
      "    /\\ ||//\\)   |_____/ \\__,_|_| |_| |_| .__/|_|\\___|\n",
      "   (/\\||/                             |_|           \n",
      "______\\||/___________________________________________                     \n",
      "\n",
      "ID: None\n",
      "Clear Text: \n",
      " \ttext: насколько я понял.  понятно а если я проценты переведу на карту да то будут проценты сниматься.  ага спасибо.  ну то есть можно проценты перевести да.  ну понятно.  вот у меня проценты значит идут на этот сбер вклад.  угу.  и вклад и вклад сбер ну сберкласс.  понятненько.  этот процент будет это то есть вклад с процентами будут идти да.  алло.  а там есть такая функция доход оставлять на этом вкладе или на карту переводить да.  не не проценты да.  почему у меня такой вопрос вот например у меня вклад да ну грубо говоря четыре месяца да вот семь процентов потом допустим я что то чего то у меня не получилось пролонгация мне пролонгация будет на семь процентов.  нет например если я проценты не буду снимать у меня будет.  то есть надо переоформлять.  ну да.  а вот например если я это на этот счет буду оставлять проценты да.  или это нежелательно делать.  добрый день знаете у меня такой вопрос вот у меня сбербанк онлайн да.  а если например процент грубо говоря он повысился десять процентов стал пролонгация будет на семь процентов у меня да. \n",
      " \ttext_classification_label: Порядок начисления процентов по вкладам, кроме Накопительного счета и Активный возраст (когда или как начисляются проценты/периодичность капитализации/как начисляются проценты при досрочном закрытии вклада/какой процент будет при дополнительном взносе/не согласен с начисленными процентами, но проценты начислены корректно и пояснен порядок начисления)\n",
      "Tokenized: \n",
      " \tNone\n",
      "Features: \n",
      " \tinput_ids: [101, 32001, 101351, 572, 10297, 47514, 119, 10297, 87455, 10636, 541, 23263, 572, 12709, 60515, 10292, 61381, 82713, 15986, 10122, 95582, 10227, 10405, 11663, 52018, 12709, 60515, 10292, 558, 68446, 10625, 119, 18802, 558, 107528, 29709, 119, 554, 10227, 11663, 17622, 18494, 12709, 60515, 10292, 61381, 82713, 12189, 10405, 119, 554, 10227, 10297, 87455, 10636, 119, 10439, 10351, 560, 57132, 12709, 60515, 10292, 59737, 10351, 549, 110634, 10122, 19558, 558, 43692, 54202, 119, 560, 15528, 119, 549, 54202, 549, 54202, 558, 43692, 554, 10227, 558, 43692, 58224, 33649, 119, 10297, 87455, 23045, 55324, 119, 19558, 12709, 60515, 22366, 12999, 11663, 17622, 54202, 558, 12709, 60515, 12040, 52018, 549, 82479, 10191, 10405, 119, 21720, 11602, 119, 541, 18805, 17622, 17690, 10385, 89977, 86700, 85854, 36829, 32589, 10122, 14551, 54202, 10205, 10880, 10122, 95582, 10227, 70659, 15356, 10405, 119, 10375, 10375, 12709, 60515, 10292, 10405, 119, 10297, 96506, 560, 57132, 44106, 58099, 10439, 10351, 20050, 560, 57132, 54202, 10405, 554, 10227, 55895, 40124, 10316, 11495, 29973, 10385, 31496, 65794, 10405, 10439, 10351, 82767, 12709, 60515, 10433, 37706, 38300, 19954, 50512, 572, 10791, 11663, 22121, 11663, 560, 57132, 10375, 16308, 16353, 12709, 35551, 11347, 102]\n",
      " \tpadding_mask: [1, 1, 1, 1, 1, 1, 1, 1, 1, 1, 1, 1, 1, 1, 1, 1, 1, 1, 1, 1, 1, 1, 1, 1, 1, 1, 1, 1, 1, 1, 1, 1, 1, 1, 1, 1, 1, 1, 1, 1, 1, 1, 1, 1, 1, 1, 1, 1, 1, 1, 1, 1, 1, 1, 1, 1, 1, 1, 1, 1, 1, 1, 1, 1, 1, 1, 1, 1, 1, 1, 1, 1, 1, 1, 1, 1, 1, 1, 1, 1, 1, 1, 1, 1, 1, 1, 1, 1, 1, 1, 1, 1, 1, 1, 1, 1, 1, 1, 1, 1, 1, 1, 1, 1, 1, 1, 1, 1, 1, 1, 1, 1, 1, 1, 1, 1, 1, 1, 1, 1, 1, 1, 1, 1, 1, 1, 1, 1, 1, 1, 1, 1, 1, 1, 1, 1, 1, 1, 1, 1, 1, 1, 1, 1, 1, 1, 1, 1, 1, 1, 1, 1, 1, 1, 1, 1, 1, 1, 1, 1, 1, 1, 1, 1, 1, 1, 1, 1, 1, 1, 1, 1, 1, 1, 1, 1, 1, 1, 1, 1, 1, 1, 1, 1, 1, 1, 1, 1, 1, 1, 1, 1]\n",
      " \tsegment_ids: [0, 0, 0, 0, 0, 0, 0, 0, 0, 0, 0, 0, 0, 0, 0, 0, 0, 0, 0, 0, 0, 0, 0, 0, 0, 0, 0, 0, 0, 0, 0, 0, 0, 0, 0, 0, 0, 0, 0, 0, 0, 0, 0, 0, 0, 0, 0, 0, 0, 0, 0, 0, 0, 0, 0, 0, 0, 0, 0, 0, 0, 0, 0, 0, 0, 0, 0, 0, 0, 0, 0, 0, 0, 0, 0, 0, 0, 0, 0, 0, 0, 0, 0, 0, 0, 0, 0, 0, 0, 0, 0, 0, 0, 0, 0, 0, 0, 0, 0, 0, 0, 0, 0, 0, 0, 0, 0, 0, 0, 0, 0, 0, 0, 0, 0, 0, 0, 0, 0, 0, 0, 0, 0, 0, 0, 0, 0, 0, 0, 0, 0, 0, 0, 0, 0, 0, 0, 0, 0, 0, 0, 0, 0, 0, 0, 0, 0, 0, 0, 0, 0, 0, 0, 0, 0, 0, 0, 0, 0, 0, 0, 0, 0, 0, 0, 0, 0, 0, 0, 0, 0, 0, 0, 0, 0, 0, 0, 0, 0, 0, 0, 0, 0, 0, 0, 0, 0, 0, 0, 0, 0, 0]\n",
      " \ttext_classification_label_ids: [4]\n",
      "_____________________________________________________\n",
      "09/07/2022 17:49:49 - WARNING - farm.data_handler.processor -   Currently no support in Processor for returning problematic ids\n",
      "Preprocessing Dataset /home/justatom/Dataset/rc/y_july.csv:  20%|██        | 196/977 [00:00<00:01, 756.66 Dicts/s]\n",
      "09/07/2022 17:49:49 - INFO - farm.data_handler.data_silo -   \n",
      "09/07/2022 17:49:49 - INFO - farm.data_handler.data_silo -   DATASETS SUMMARY\n",
      "09/07/2022 17:49:49 - INFO - farm.data_handler.data_silo -   ================\n",
      "09/07/2022 17:49:49 - INFO - farm.data_handler.data_silo -   Examples in train: 3737\n",
      "09/07/2022 17:49:49 - INFO - farm.data_handler.data_silo -   Examples in dev  : 977\n",
      "09/07/2022 17:49:49 - INFO - farm.data_handler.data_silo -   Examples in test : 977\n",
      "09/07/2022 17:49:49 - INFO - farm.data_handler.data_silo -   \n",
      "09/07/2022 17:49:49 - INFO - farm.data_handler.data_silo -   Longest sequence length observed after clipping:     192\n",
      "09/07/2022 17:49:49 - INFO - farm.data_handler.data_silo -   Average sequence length after clipping: 169.016590848274\n",
      "09/07/2022 17:49:49 - INFO - farm.data_handler.data_silo -   Proportion clipped:      0.6614931763446615\n",
      "09/07/2022 17:49:49 - INFO - farm.data_handler.data_silo -   [Farmer's Tip] 66.1% of your samples got cut down to 192 tokens. Consider increasing max_seq_len. This will lead to higher memory consumption but is likely to improve your model performance\n"
     ]
    }
   ],
   "source": [
    "tokenizer, processor, data_silo = pipe._processing(\n",
    "        pretrained_model_name_or_path=lang_model,\n",
    "        do_lower_case=do_lower_case,\n",
    "        label_list=label_list, \n",
    "        metric=metric,\n",
    "        data_dir=data_dir,\n",
    "        train_filename=\"x_july.csv\",\n",
    "        dev_filename=\"y_july.csv\",\n",
    "        test_filename=\"y_july.csv\",\n",
    "        dev_stratification=dev_stratification)"
   ]
  },
  {
   "cell_type": "code",
   "execution_count": 13,
   "metadata": {},
   "outputs": [],
   "source": [
    "processor.save(save_dir)"
   ]
  },
  {
   "cell_type": "code",
   "execution_count": 2,
   "metadata": {},
   "outputs": [],
   "source": [
    "lang_model = \"distilbert-base-multilingual-cased\""
   ]
  },
  {
   "cell_type": "code",
   "execution_count": 3,
   "metadata": {},
   "outputs": [],
   "source": [
    "tok = DistilBertTokenizerFast.from_pretrained(lang_model)"
   ]
  },
  {
   "cell_type": "code",
   "execution_count": 4,
   "metadata": {},
   "outputs": [
    {
     "name": "stderr",
     "output_type": "stream",
     "text": [
      "Some weights of the model checkpoint at distilbert-base-multilingual-cased were not used when initializing DistilBertModel: ['vocab_transform.bias', 'vocab_transform.weight', 'vocab_projector.bias', 'vocab_projector.weight', 'vocab_layer_norm.bias', 'vocab_layer_norm.weight']\n",
      "- This IS expected if you are initializing DistilBertModel from the checkpoint of a model trained on another task or with another architecture (e.g. initializing a BertForSequenceClassification model from a BertForPreTraining model).\n",
      "- This IS NOT expected if you are initializing DistilBertModel from the checkpoint of a model that you expect to be exactly identical (initializing a BertForSequenceClassification model from a BertForSequenceClassification model).\n"
     ]
    }
   ],
   "source": [
    "mod = AutoModel.from_pretrained(\"distilbert-base-multilingual-cased\")"
   ]
  },
  {
   "cell_type": "code",
   "execution_count": 5,
   "metadata": {},
   "outputs": [],
   "source": [
    "s: str = \"Здравствуйте у меня такая проблема. Я бы ну очень хотела бы ну убрать все общие слова в общем ну вот.\""
   ]
  },
  {
   "cell_type": "code",
   "execution_count": 6,
   "metadata": {},
   "outputs": [
    {
     "data": {
      "text/plain": [
       "'Здравствуйте у меня такая проблема. Я бы ну очень хотела бы ну убрать все общие слова в общем ну вот.'"
      ]
     },
     "execution_count": 6,
     "metadata": {},
     "output_type": "execute_result"
    }
   ],
   "source": [
    "s"
   ]
  },
  {
   "cell_type": "code",
   "execution_count": 7,
   "metadata": {},
   "outputs": [],
   "source": [
    "from jack.recoiling.module import recoil\n",
    "import pathlib, os"
   ]
  },
  {
   "cell_type": "code",
   "execution_count": 8,
   "metadata": {},
   "outputs": [],
   "source": [
    "stopper = recoil.Stopper(pathlib.Path(os.getcwd()) / \"jack\" / \"configuring\" / \"stopwords.txt\")"
   ]
  },
  {
   "cell_type": "code",
   "execution_count": 9,
   "metadata": {},
   "outputs": [
    {
     "data": {
      "text/plain": [
       "[{'text': 'здравствуйте'},\n",
       " {'text': 'проблема'},\n",
       " {'text': 'хотела'},\n",
       " {'text': 'убрать'},\n",
       " {'text': 'общие'},\n",
       " {'text': 'слова'},\n",
       " {'text': 'общем'}]"
      ]
     },
     "execution_count": 9,
     "metadata": {},
     "output_type": "execute_result"
    }
   ],
   "source": [
    "stopper(s.split(\" \"))"
   ]
  },
  {
   "cell_type": "code",
   "execution_count": 10,
   "metadata": {},
   "outputs": [
    {
     "data": {
      "text/plain": [
       "False"
      ]
     },
     "execution_count": 10,
     "metadata": {},
     "output_type": "execute_result"
    }
   ],
   "source": [
    "\"проблема\" in stopper"
   ]
  },
  {
   "cell_type": "code",
   "execution_count": 12,
   "metadata": {},
   "outputs": [],
   "source": [
    "from jack.tooling import stl\n",
    "from icecream import ic\n",
    "from jack.etc import Document\n",
    "from typing import Any, Dict\n",
    "import string"
   ]
  },
  {
   "cell_type": "code",
   "execution_count": 13,
   "metadata": {},
   "outputs": [],
   "source": [
    "def unify(item: Any, lower_case: bool = True):\n",
    "    if isinstance(item, Document):\n",
    "        item = item.text\n",
    "    elif isinstance(item, Dict):\n",
    "        item = item[\"text\"]\n",
    "    else:\n",
    "        item = str(item)\n",
    "    item = item.strip()\n",
    "    item = item.lower() if lower_case else item\n",
    "    while item.endswith(string.punctuation):\n",
    "        item = item[:-1]\n",
    "    return item"
   ]
  },
  {
   "cell_type": "code",
   "execution_count": 14,
   "metadata": {},
   "outputs": [],
   "source": [
    "ptr = stl.NIterator(s.split(\" \"))"
   ]
  },
  {
   "cell_type": "code",
   "execution_count": 21,
   "metadata": {},
   "outputs": [
    {
     "data": {
      "text/plain": [
       "'вот.'"
      ]
     },
     "execution_count": 21,
     "metadata": {},
     "output_type": "execute_result"
    }
   ],
   "source": [
    "item"
   ]
  },
  {
   "cell_type": "code",
   "execution_count": 15,
   "metadata": {},
   "outputs": [
    {
     "name": "stderr",
     "output_type": "stream",
     "text": [
      "ic| item + \" | \" + str(isin): 'здравствуйте | False'\n",
      "ic| item + \" | \" + str(isin): 'у | True'\n",
      "ic| item + \" | \" + str(isin): 'меня | True'\n",
      "ic| item + \" | \" + str(isin): 'такая | True'\n",
      "ic| item + \" | \" + str(isin): 'проблема. | False'\n",
      "ic| item + \" | \" + str(isin): 'я | True'\n",
      "ic| item + \" | \" + str(isin): 'бы | True'\n",
      "ic| item + \" | \" + str(isin): 'ну | True'\n",
      "ic| item + \" | \" + str(isin): 'очень | True'\n",
      "ic| item + \" | \" + str(isin): 'хотела | False'\n",
      "ic| item + \" | \" + str(isin): 'бы | True'\n",
      "ic| item + \" | \" + str(isin): 'ну | True'\n",
      "ic| item + \" | \" + str(isin): 'убрать | False'\n",
      "ic| item + \" | \" + str(isin): 'все | True'\n",
      "ic| item + \" | \" + str(isin): 'общие | False'\n",
      "ic| item + \" | \" + str(isin): 'слова | False'\n",
      "ic| item + \" | \" + str(isin): 'в | True'\n",
      "ic| item + \" | \" + str(isin): 'общем | False'\n",
      "ic| item + \" | \" + str(isin): 'ну | True'\n",
      "ic| item + \" | \" + str(isin): 'вот. | False'\n"
     ]
    }
   ],
   "source": [
    "while ptr.has_next():\n",
    "    item = ptr.next()\n",
    "    item = item.strip()\n",
    "    item = unify(item)\n",
    "    isin = item in stopper\n",
    "    ic(item + \" | \" + str(isin))"
   ]
  },
  {
   "cell_type": "code",
   "execution_count": 25,
   "metadata": {},
   "outputs": [
    {
     "data": {
      "text/plain": [
       "'вот.'"
      ]
     },
     "execution_count": 25,
     "metadata": {},
     "output_type": "execute_result"
    }
   ],
   "source": [
    "item"
   ]
  },
  {
   "cell_type": "code",
   "execution_count": 26,
   "metadata": {},
   "outputs": [
    {
     "data": {
      "text/plain": [
       "'вот'"
      ]
     },
     "execution_count": 26,
     "metadata": {},
     "output_type": "execute_result"
    }
   ],
   "source": [
    "item[:-1]"
   ]
  },
  {
   "cell_type": "code",
   "execution_count": 2,
   "metadata": {},
   "outputs": [],
   "source": [
    "from jack.tooling import io"
   ]
  },
  {
   "cell_type": "code",
   "execution_count": 3,
   "metadata": {},
   "outputs": [],
   "source": [
    "data_dir = pathlib.Path.home() / \"Dataset\" / \"rc\"\n",
    "filename = \"x_july\""
   ]
  },
  {
   "cell_type": "code",
   "execution_count": 9,
   "metadata": {},
   "outputs": [
    {
     "data": {
      "text/html": [
       "<div>\n",
       "<style scoped>\n",
       "    .dataframe tbody tr th:only-of-type {\n",
       "        vertical-align: middle;\n",
       "    }\n",
       "\n",
       "    .dataframe tbody tr th {\n",
       "        vertical-align: top;\n",
       "    }\n",
       "\n",
       "    .dataframe thead th {\n",
       "        text-align: right;\n",
       "    }\n",
       "</style>\n",
       "<table border=\"1\" class=\"dataframe\">\n",
       "  <thead>\n",
       "    <tr style=\"text-align: right;\">\n",
       "      <th></th>\n",
       "      <th>text</th>\n",
       "      <th>label</th>\n",
       "    </tr>\n",
       "  </thead>\n",
       "  <tbody>\n",
       "    <tr>\n",
       "      <th>0</th>\n",
       "      <td>обман капитальный обман это надо деньги быстре...</td>\n",
       "      <td>Вопросы по порядку начисления процентов/размер...</td>\n",
       "    </tr>\n",
       "    <tr>\n",
       "      <th>1</th>\n",
       "      <td>а вот накопительный вклад у вас был когда то р...</td>\n",
       "      <td>Подбор вклада/условия вклада, который планируе...</td>\n",
       "    </tr>\n",
       "    <tr>\n",
       "      <th>2</th>\n",
       "      <td>пролонгируется.  а скажите сейчас проценты как...</td>\n",
       "      <td>Порядок пролонгации вклада (нужно ли обращатьс...</td>\n",
       "    </tr>\n",
       "    <tr>\n",
       "      <th>3</th>\n",
       "      <td>добрый вечер.  накопительный счет абсолютно не...</td>\n",
       "      <td>Условия/порядок проведений операций по действу...</td>\n",
       "    </tr>\n",
       "    <tr>\n",
       "      <th>4</th>\n",
       "      <td>вы закрываете вклад да я соглашаюсь с условиям...</td>\n",
       "      <td>Способы или сроки закрытия вклада/можно ли зак...</td>\n",
       "    </tr>\n",
       "    <tr>\n",
       "      <th>...</th>\n",
       "      <td>...</td>\n",
       "      <td>...</td>\n",
       "    </tr>\n",
       "    <tr>\n",
       "      <th>3789</th>\n",
       "      <td>потерять.  я поняла спасибо девушка.  деньги. ...</td>\n",
       "      <td>Способы или сроки закрытия вклада/можно ли зак...</td>\n",
       "    </tr>\n",
       "    <tr>\n",
       "      <th>3790</th>\n",
       "      <td>выбираю банк ввожу там карту этого банка да ку...</td>\n",
       "      <td>UNKNOWN</td>\n",
       "    </tr>\n",
       "    <tr>\n",
       "      <th>3791</th>\n",
       "      <td>здравствуйте подскажите пожалуйста у меня вот ...</td>\n",
       "      <td>UNKNOWN</td>\n",
       "    </tr>\n",
       "    <tr>\n",
       "      <th>3792</th>\n",
       "      <td>он у нас действует на территории россии но где...</td>\n",
       "      <td>Подбор вклада/условия вклада, который планируе...</td>\n",
       "    </tr>\n",
       "    <tr>\n",
       "      <th>3793</th>\n",
       "      <td>как это называется не помню ну че то он у меня...</td>\n",
       "      <td>Условия/порядок проведений операций по действу...</td>\n",
       "    </tr>\n",
       "  </tbody>\n",
       "</table>\n",
       "<p>3794 rows × 2 columns</p>\n",
       "</div>"
      ],
      "text/plain": [
       "                                                   text  \\\n",
       "0     обман капитальный обман это надо деньги быстре...   \n",
       "1     а вот накопительный вклад у вас был когда то р...   \n",
       "2     пролонгируется.  а скажите сейчас проценты как...   \n",
       "3     добрый вечер.  накопительный счет абсолютно не...   \n",
       "4     вы закрываете вклад да я соглашаюсь с условиям...   \n",
       "...                                                 ...   \n",
       "3789  потерять.  я поняла спасибо девушка.  деньги. ...   \n",
       "3790  выбираю банк ввожу там карту этого банка да ку...   \n",
       "3791  здравствуйте подскажите пожалуйста у меня вот ...   \n",
       "3792  он у нас действует на территории россии но где...   \n",
       "3793  как это называется не помню ну че то он у меня...   \n",
       "\n",
       "                                                  label  \n",
       "0     Вопросы по порядку начисления процентов/размер...  \n",
       "1     Подбор вклада/условия вклада, который планируе...  \n",
       "2     Порядок пролонгации вклада (нужно ли обращатьс...  \n",
       "3     Условия/порядок проведений операций по действу...  \n",
       "4     Способы или сроки закрытия вклада/можно ли зак...  \n",
       "...                                                 ...  \n",
       "3789  Способы или сроки закрытия вклада/можно ли зак...  \n",
       "3790                                            UNKNOWN  \n",
       "3791                                            UNKNOWN  \n",
       "3792  Подбор вклада/условия вклада, который планируе...  \n",
       "3793  Условия/порядок проведений операций по действу...  \n",
       "\n",
       "[3794 rows x 2 columns]"
      ]
     },
     "execution_count": 9,
     "metadata": {},
     "output_type": "execute_result"
    }
   ],
   "source": [
    "next(io.load(\n",
    "                data_dir,\n",
    "                filename,\n",
    "                ext=\".csv\",\n",
    "                sep=\",\",\n",
    "                rename_columns={\"text_col\": \"text\", \"label\": \"label\"},\n",
    "                quotechar='\"',\n",
    "                as_record=False,\n",
    "                dtype=str,\n",
    "                header=0,\n",
    "            ))"
   ]
  },
  {
   "cell_type": "code",
   "execution_count": null,
   "metadata": {},
   "outputs": [],
   "source": []
  }
 ],
 "metadata": {
  "kernelspec": {
   "display_name": "Python 3.9.13 64-bit",
   "language": "python",
   "name": "python3"
  },
  "language_info": {
   "codemirror_mode": {
    "name": "ipython",
    "version": 3
   },
   "file_extension": ".py",
   "mimetype": "text/x-python",
   "name": "python",
   "nbconvert_exporter": "python",
   "pygments_lexer": "ipython3",
   "version": "3.9.13"
  },
  "orig_nbformat": 4,
  "vscode": {
   "interpreter": {
    "hash": "65185d064a1c8bbb51830523107cc6bf50e52ff4f53a2087cceea2e34fb5999d"
   }
  }
 },
 "nbformat": 4,
 "nbformat_minor": 2
}
