{
 "cells": [
  {
   "cell_type": "code",
   "execution_count": 1,
   "metadata": {},
   "outputs": [],
   "source": [
    "from loguru import logger as jogger"
   ]
  },
  {
   "cell_type": "code",
   "execution_count": 2,
   "metadata": {},
   "outputs": [
    {
     "data": {
      "text/plain": [
       "1"
      ]
     },
     "execution_count": 2,
     "metadata": {},
     "output_type": "execute_result"
    }
   ],
   "source": [
    "jogger.add(\"file.log\", colorize=False, enqueue=True, format=\"{extra[user]} ¬ {message}\")"
   ]
  },
  {
   "cell_type": "code",
   "execution_count": 3,
   "metadata": {},
   "outputs": [],
   "source": [
    "logger = jogger.bind(user=\"justatom\")"
   ]
  },
  {
   "cell_type": "code",
   "execution_count": 4,
   "metadata": {},
   "outputs": [],
   "source": [
    "import random_name\n",
    "import numpy as np"
   ]
  },
  {
   "cell_type": "code",
   "execution_count": 5,
   "metadata": {},
   "outputs": [
    {
     "data": {
      "text/plain": [
       "2"
      ]
     },
     "execution_count": 5,
     "metadata": {},
     "output_type": "execute_result"
    }
   ],
   "source": [
    "np.random.randint(10)"
   ]
  },
  {
   "cell_type": "code",
   "execution_count": 11,
   "metadata": {},
   "outputs": [
    {
     "name": "stderr",
     "output_type": "stream",
     "text": [
      "2022-09-06 16:23:09.120 | INFO     | __main__:<cell line: 1>:5 - {'TrainLoss': 30, 'step': 0}\n",
      "2022-09-06 16:23:09.122 | INFO     | __main__:<cell line: 1>:5 - {'TrainLoss': 67, 'step': 1}\n",
      "2022-09-06 16:23:09.123 | INFO     | __main__:<cell line: 1>:5 - {'TrainLoss': 27, 'step': 2}\n",
      "2022-09-06 16:23:09.124 | INFO     | __main__:<cell line: 1>:5 - {'TrainLoss': 66, 'step': 3}\n",
      "2022-09-06 16:23:09.124 | INFO     | __main__:<cell line: 1>:5 - {'TrainLoss': 57, 'step': 4}\n",
      "2022-09-06 16:23:09.125 | INFO     | __main__:<cell line: 1>:5 - {'TrainLoss': 18, 'step': 5}\n",
      "2022-09-06 16:23:09.126 | INFO     | __main__:<cell line: 1>:5 - {'TrainLoss': 17, 'step': 6}\n",
      "2022-09-06 16:23:09.127 | INFO     | __main__:<cell line: 1>:5 - {'TrainLoss': 9, 'step': 7}\n",
      "2022-09-06 16:23:09.127 | INFO     | __main__:<cell line: 1>:5 - {'TrainLoss': 77, 'step': 8}\n",
      "2022-09-06 16:23:09.129 | INFO     | __main__:<cell line: 1>:5 - {'TrainLoss': 78, 'step': 9}\n"
     ]
    }
   ],
   "source": [
    "for i in range(10):\n",
    "    logger = logger.bind(user=\"abracdabra\") if i % 2 == 0 else logger.bind(user=\"justatom\")\n",
    "    arg = np.random.randint(100)\n",
    "    arg2 = np.random.randint(10)\n",
    "    logger.info({\"TrainLoss\": arg, \"step\": i})"
   ]
  },
  {
   "cell_type": "code",
   "execution_count": 9,
   "metadata": {},
   "outputs": [],
   "source": [
    "from jack.tooling import io"
   ]
  },
  {
   "cell_type": "code",
   "execution_count": 8,
   "metadata": {},
   "outputs": [
    {
     "name": "stdout",
     "output_type": "stream",
     "text": [
      "justatom ¬ \u001b[32m91\u001b[0m\n",
      "justatom ¬ \u001b[32m2\u001b[0m\n",
      "justatom ¬ \u001b[32m66\u001b[0m\n",
      "justatom ¬ \u001b[32m91\u001b[0m\n",
      "justatom ¬ \u001b[32m46\u001b[0m\n",
      "justatom ¬ \u001b[32m93\u001b[0m\n",
      "justatom ¬ \u001b[32m37\u001b[0m\n",
      "justatom ¬ \u001b[32m44\u001b[0m\n",
      "justatom ¬ \u001b[32m13\u001b[0m\n",
      "justatom ¬ \u001b[32m10\u001b[0m\n"
     ]
    }
   ],
   "source": [
    "with open(\"file.log\", encoding=\"utf-8-sig\") as fin:\n",
    "    for line in io.chunkify(fin):\n",
    "        print(line)"
   ]
  },
  {
   "cell_type": "code",
   "execution_count": 10,
   "metadata": {},
   "outputs": [
    {
     "data": {
      "text/plain": [
       "' \\x1b[32m10\\x1b[0m'"
      ]
     },
     "execution_count": 10,
     "metadata": {},
     "output_type": "execute_result"
    }
   ],
   "source": [
    "line.split(\"¬\")[1]"
   ]
  },
  {
   "cell_type": "code",
   "execution_count": 20,
   "metadata": {},
   "outputs": [],
   "source": [
    "s = \"exxpectopatronum\""
   ]
  },
  {
   "cell_type": "code",
   "execution_count": 21,
   "metadata": {},
   "outputs": [],
   "source": [
    "import collections"
   ]
  },
  {
   "cell_type": "code",
   "execution_count": 22,
   "metadata": {},
   "outputs": [],
   "source": [
    "m = collections.defaultdict(set)"
   ]
  },
  {
   "cell_type": "code",
   "execution_count": 23,
   "metadata": {},
   "outputs": [],
   "source": [
    "for pos, ch in enumerate(s):\n",
    "    m[ch].add(pos)"
   ]
  },
  {
   "cell_type": "code",
   "execution_count": 24,
   "metadata": {},
   "outputs": [
    {
     "data": {
      "text/plain": [
       "defaultdict(set,\n",
       "            {'e': {0, 4},\n",
       "             'x': {1, 2},\n",
       "             'p': {3, 8},\n",
       "             'c': {5},\n",
       "             't': {6, 10},\n",
       "             'o': {7, 12},\n",
       "             'a': {9},\n",
       "             'r': {11},\n",
       "             'n': {13},\n",
       "             'u': {14},\n",
       "             'm': {15}})"
      ]
     },
     "execution_count": 24,
     "metadata": {},
     "output_type": "execute_result"
    }
   ],
   "source": [
    "m"
   ]
  },
  {
   "cell_type": "code",
   "execution_count": 14,
   "metadata": {},
   "outputs": [
    {
     "data": {
      "text/plain": [
       "15"
      ]
     },
     "execution_count": 14,
     "metadata": {},
     "output_type": "execute_result"
    }
   ],
   "source": [
    "len(s)"
   ]
  },
  {
   "cell_type": "code",
   "execution_count": 1,
   "metadata": {},
   "outputs": [],
   "source": [
    "from jack.logging.module import logger"
   ]
  },
  {
   "cell_type": "code",
   "execution_count": 5,
   "metadata": {},
   "outputs": [],
   "source": [
    "ai_logger = logger.JUSTLogger.init_experiment(\n",
    "    project_name=\"rc\",\n",
    "    experiment_name=\"test\"\n",
    ")"
   ]
  },
  {
   "cell_type": "code",
   "execution_count": 9,
   "metadata": {},
   "outputs": [
    {
     "name": "stderr",
     "output_type": "stream",
     "text": [
      "2022-09-06 17:32:18.432 | INFO     | jack.logging.module.logger:log_metrics:168 - {'TrainLoss': 13, 'x': 10}\n"
     ]
    }
   ],
   "source": [
    "ai_logger.log_metrics({\"TrainLoss\": 13}, step=10)"
   ]
  },
  {
   "cell_type": "code",
   "execution_count": 10,
   "metadata": {},
   "outputs": [],
   "source": [
    "ai_logger.end_run()"
   ]
  },
  {
   "cell_type": "code",
   "execution_count": null,
   "metadata": {},
   "outputs": [],
   "source": []
  }
 ],
 "metadata": {
  "kernelspec": {
   "display_name": "Python 3.9.13 64-bit",
   "language": "python",
   "name": "python3"
  },
  "language_info": {
   "codemirror_mode": {
    "name": "ipython",
    "version": 3
   },
   "file_extension": ".py",
   "mimetype": "text/x-python",
   "name": "python",
   "nbconvert_exporter": "python",
   "pygments_lexer": "ipython3",
   "version": "3.9.13"
  },
  "orig_nbformat": 4,
  "vscode": {
   "interpreter": {
    "hash": "65185d064a1c8bbb51830523107cc6bf50e52ff4f53a2087cceea2e34fb5999d"
   }
  }
 },
 "nbformat": 4,
 "nbformat_minor": 2
}
