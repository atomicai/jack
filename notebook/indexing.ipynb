{
 "cells": [
  {
   "cell_type": "code",
   "execution_count": 23,
   "metadata": {},
   "outputs": [],
   "source": [
    "import pandas as pd\n",
    "import pathlib, os\n",
    "from jack.tooling import io as io_tool\n",
    "import warnings\n",
    "warnings.filterwarnings('ignore')"
   ]
  },
  {
   "cell_type": "code",
   "execution_count": 3,
   "metadata": {},
   "outputs": [],
   "source": [
    "data_dir = pathlib.Path.home() / \"Dataset\"\n",
    "filename = \"train_df\""
   ]
  },
  {
   "cell_type": "code",
   "execution_count": 7,
   "metadata": {},
   "outputs": [],
   "source": [
    "rename_columns = {\"Title\": \"text\", \"Code\": \"label\"}"
   ]
  },
  {
   "cell_type": "code",
   "execution_count": 11,
   "metadata": {},
   "outputs": [],
   "source": [
    "df = next(io_tool.load(data_dir, filename, ext=\".csv\", rename_columns=rename_columns))"
   ]
  },
  {
   "cell_type": "code",
   "execution_count": 12,
   "metadata": {},
   "outputs": [
    {
     "data": {
      "text/html": [
       "<div>\n",
       "<style scoped>\n",
       "    .dataframe tbody tr th:only-of-type {\n",
       "        vertical-align: middle;\n",
       "    }\n",
       "\n",
       "    .dataframe tbody tr th {\n",
       "        vertical-align: top;\n",
       "    }\n",
       "\n",
       "    .dataframe thead th {\n",
       "        text-align: right;\n",
       "    }\n",
       "</style>\n",
       "<table border=\"1\" class=\"dataframe\">\n",
       "  <thead>\n",
       "    <tr style=\"text-align: right;\">\n",
       "      <th></th>\n",
       "      <th>text</th>\n",
       "      <th>label</th>\n",
       "    </tr>\n",
       "  </thead>\n",
       "  <tbody>\n",
       "    <tr>\n",
       "      <th>0</th>\n",
       "      <td>senior program analyst navy strike fighter sen...</td>\n",
       "      <td>15-1121.00</td>\n",
       "    </tr>\n",
       "    <tr>\n",
       "      <th>1</th>\n",
       "      <td>senior intelligence analyst iii job</td>\n",
       "      <td>33-3021.06</td>\n",
       "    </tr>\n",
       "    <tr>\n",
       "      <th>2</th>\n",
       "      <td>retail wireless sales consultant part</td>\n",
       "      <td>41-2031.00</td>\n",
       "    </tr>\n",
       "    <tr>\n",
       "      <th>3</th>\n",
       "      <td>test automation engineer w selenium and gerkin...</td>\n",
       "      <td>15-1121.00</td>\n",
       "    </tr>\n",
       "    <tr>\n",
       "      <th>4</th>\n",
       "      <td>public sector portfolio management senior asso...</td>\n",
       "      <td>11-1021.00</td>\n",
       "    </tr>\n",
       "  </tbody>\n",
       "</table>\n",
       "</div>"
      ],
      "text/plain": [
       "                                                text       label\n",
       "0  senior program analyst navy strike fighter sen...  15-1121.00\n",
       "1                senior intelligence analyst iii job  33-3021.06\n",
       "2              retail wireless sales consultant part  41-2031.00\n",
       "3  test automation engineer w selenium and gerkin...  15-1121.00\n",
       "4  public sector portfolio management senior asso...  11-1021.00"
      ]
     },
     "execution_count": 12,
     "metadata": {},
     "output_type": "execute_result"
    }
   ],
   "source": [
    "df.head()"
   ]
  },
  {
   "cell_type": "markdown",
   "metadata": {},
   "source": [
    "> In `explore.ipynb` we have already replaced `label` code with textual description. Let's reuse it to here again. For simplicity copy/paste the result"
   ]
  },
  {
   "cell_type": "code",
   "execution_count": 13,
   "metadata": {},
   "outputs": [],
   "source": [
    "mapping = {\n",
    "    '11-1021.00': 'General and Operations Managers',\n",
    "    '11-2021.00': 'Marketing Managers',\n",
    "    '11-2022.00': 'Sales Managers',\n",
    "    '11-3031.02': 'Financial Managers, Branch or Department',\n",
    "    '13-1111.00': 'Management Analysts',\n",
    "    '13-2051.00': 'Financial Analysts',\n",
    "    '15-1121.00': 'Computer Systems Analysts',\n",
    "    '15-1122.00': 'Information Security Analysts',\n",
    "    '15-1132.00': 'Software Developers, Applications',\n",
    "    '15-1133.00': 'Software Developers, Systems Software',\n",
    "    '15-1134.00': 'Web Developers',\n",
    "    '15-1142.00': 'Network and Computer Systems Administrators',\n",
    "    '15-1151.00': 'Computer User Support Specialists',\n",
    "    '29-1141.00': 'Registered Nurses',\n",
    "    '31-1014.00': 'Nursing Assistants',\n",
    "    '33-3021.06': 'Intelligence Analysts',\n",
    "    '41-2031.00': 'Retail Salespersons',\n",
    "    '43-4051.00': 'Customer Service Representatives',\n",
    "    '49-3023.02': 'Automotive Specialty Technicians',\n",
    "    '49-9071.00': 'Maintenance and Repair Workers, General',\n",
    "    '53-3032.00': 'Heavy and Tractor-Trailer Truck Drivers'\n",
    " }"
   ]
  },
  {
   "cell_type": "code",
   "execution_count": 15,
   "metadata": {},
   "outputs": [],
   "source": [
    "df = df.replace({\"label\": dict(mapping)})"
   ]
  },
  {
   "cell_type": "code",
   "execution_count": 16,
   "metadata": {},
   "outputs": [
    {
     "data": {
      "text/html": [
       "<div>\n",
       "<style scoped>\n",
       "    .dataframe tbody tr th:only-of-type {\n",
       "        vertical-align: middle;\n",
       "    }\n",
       "\n",
       "    .dataframe tbody tr th {\n",
       "        vertical-align: top;\n",
       "    }\n",
       "\n",
       "    .dataframe thead th {\n",
       "        text-align: right;\n",
       "    }\n",
       "</style>\n",
       "<table border=\"1\" class=\"dataframe\">\n",
       "  <thead>\n",
       "    <tr style=\"text-align: right;\">\n",
       "      <th></th>\n",
       "      <th>text</th>\n",
       "      <th>label</th>\n",
       "    </tr>\n",
       "  </thead>\n",
       "  <tbody>\n",
       "    <tr>\n",
       "      <th>0</th>\n",
       "      <td>senior program analyst navy strike fighter sen...</td>\n",
       "      <td>Computer Systems Analysts</td>\n",
       "    </tr>\n",
       "    <tr>\n",
       "      <th>1</th>\n",
       "      <td>senior intelligence analyst iii job</td>\n",
       "      <td>Intelligence Analysts</td>\n",
       "    </tr>\n",
       "    <tr>\n",
       "      <th>2</th>\n",
       "      <td>retail wireless sales consultant part</td>\n",
       "      <td>Retail Salespersons</td>\n",
       "    </tr>\n",
       "    <tr>\n",
       "      <th>3</th>\n",
       "      <td>test automation engineer w selenium and gerkin...</td>\n",
       "      <td>Computer Systems Analysts</td>\n",
       "    </tr>\n",
       "    <tr>\n",
       "      <th>4</th>\n",
       "      <td>public sector portfolio management senior asso...</td>\n",
       "      <td>General and Operations Managers</td>\n",
       "    </tr>\n",
       "  </tbody>\n",
       "</table>\n",
       "</div>"
      ],
      "text/plain": [
       "                                                text  \\\n",
       "0  senior program analyst navy strike fighter sen...   \n",
       "1                senior intelligence analyst iii job   \n",
       "2              retail wireless sales consultant part   \n",
       "3  test automation engineer w selenium and gerkin...   \n",
       "4  public sector portfolio management senior asso...   \n",
       "\n",
       "                             label  \n",
       "0        Computer Systems Analysts  \n",
       "1            Intelligence Analysts  \n",
       "2              Retail Salespersons  \n",
       "3        Computer Systems Analysts  \n",
       "4  General and Operations Managers  "
      ]
     },
     "execution_count": 16,
     "metadata": {},
     "output_type": "execute_result"
    }
   ],
   "source": [
    "df.head()"
   ]
  },
  {
   "cell_type": "markdown",
   "metadata": {},
   "source": [
    "> Let's now \"put\" (aka `index`) the data in running docker container. Make sure you ran `make start` in the root directory before continue!"
   ]
  },
  {
   "cell_type": "code",
   "execution_count": 21,
   "metadata": {},
   "outputs": [],
   "source": [
    "from jack.storing import elastic"
   ]
  },
  {
   "cell_type": "code",
   "execution_count": 24,
   "metadata": {},
   "outputs": [],
   "source": [
    "store = elastic.ElasticDocStore()"
   ]
  },
  {
   "cell_type": "code",
   "execution_count": 26,
   "metadata": {},
   "outputs": [],
   "source": [
    "from jack.storing import doc"
   ]
  },
  {
   "cell_type": "code",
   "execution_count": 27,
   "metadata": {},
   "outputs": [],
   "source": [
    "dataset = [doc.Document.from_dict(d) for d in df.to_dict(orient=\"records\")]"
   ]
  },
  {
   "cell_type": "markdown",
   "metadata": {},
   "source": [
    "> Step below might take some time performing inverse mapping on documents"
   ]
  },
  {
   "cell_type": "code",
   "execution_count": 28,
   "metadata": {},
   "outputs": [],
   "source": [
    "store.write_documents(dataset)"
   ]
  },
  {
   "cell_type": "code",
   "execution_count": 29,
   "metadata": {},
   "outputs": [
    {
     "data": {
      "text/plain": [
       "{'count': 12098,\n",
       " 'chars_mean': 33.69127128450984,\n",
       " 'chars_max': 209,\n",
       " 'chars_min': 4,\n",
       " 'chars_median': 31.0}"
      ]
     },
     "execution_count": 29,
     "metadata": {},
     "output_type": "execute_result"
    }
   ],
   "source": [
    "store.describe()"
   ]
  }
 ],
 "metadata": {
  "kernelspec": {
   "display_name": "Python 3.9.12 ('base')",
   "language": "python",
   "name": "python3"
  },
  "language_info": {
   "codemirror_mode": {
    "name": "ipython",
    "version": 3
   },
   "file_extension": ".py",
   "mimetype": "text/x-python",
   "name": "python",
   "nbconvert_exporter": "python",
   "pygments_lexer": "ipython3",
   "version": "3.9.12"
  },
  "orig_nbformat": 4,
  "vscode": {
   "interpreter": {
    "hash": "01e6cdf08b36622ed3d893f88172b1a642d006eb8044929217be266c2785dd5a"
   }
  }
 },
 "nbformat": 4,
 "nbformat_minor": 2
}
